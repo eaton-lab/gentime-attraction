{
 "cells": [
  {
   "cell_type": "markdown",
   "id": "heard-distributor",
   "metadata": {},
   "source": [
    "# Inferred SNaQ result toytree network plotting\n",
    "\n",
    "Plot best network given optimized number of hybrid edges\n"
   ]
  },
  {
   "cell_type": "code",
   "execution_count": 1,
   "id": "promising-texture",
   "metadata": {},
   "outputs": [],
   "source": [
    "import toytree\n",
    "import toyplot\n",
    "import ipcoal"
   ]
  },
  {
   "cell_type": "markdown",
   "id": "binary-production",
   "metadata": {},
   "source": [
    "### 4.1.1 SNaQ Vary Ne only"
   ]
  },
  {
   "cell_type": "code",
   "execution_count": 33,
   "id": "legal-reduction",
   "metadata": {},
   "outputs": [],
   "source": [
    "NET_411 = \"(r1,(r0,(r5,#H9:::0.09198576117548107):7.6024044989286965):0.017750679032023185,((r4,(r2)#H9:::0.9080142388245189):0.08697294376239265,((r3,r6):0.010907262651298124,r7):0.020120677723735755):0.020196173428294724);\""
   ]
  },
  {
   "cell_type": "code",
   "execution_count": 34,
   "id": "level-mediterranean",
   "metadata": {},
   "outputs": [],
   "source": [
    "tree_411, admix_411 = toytree.network.parse_network_to_tree_and_admix(NET_311)"
   ]
  },
  {
   "cell_type": "code",
   "execution_count": 35,
   "id": "authorized-registrar",
   "metadata": {},
   "outputs": [
    {
     "data": {
      "text/plain": [
       "[(['r2'], ['r5'], 0.5, {}, '0.092')]"
      ]
     },
     "execution_count": 35,
     "metadata": {},
     "output_type": "execute_result"
    }
   ],
   "source": [
    "admix_411"
   ]
  },
  {
   "cell_type": "code",
   "execution_count": 36,
   "id": "ordered-laser",
   "metadata": {},
   "outputs": [
    {
     "data": {
      "text/html": [
       "<div class=\"toyplot\" id=\"t9d5110b874fb460daca94c7a9ad25dd3\" style=\"text-align:center\"><svg class=\"toyplot-canvas-Canvas\" xmlns:toyplot=\"http://www.sandia.gov/toyplot\" xmlns:xlink=\"http://www.w3.org/1999/xlink\" xmlns=\"http://www.w3.org/2000/svg\" width=\"300.0px\" height=\"300.0px\" viewBox=\"0 0 300.0 300.0\" preserveAspectRatio=\"xMidYMid meet\" style=\"background-color:transparent;border-color:#292724;border-style:none;border-width:1.0;fill:rgb(16.1%,15.3%,14.1%);fill-opacity:1.0;font-family:Helvetica;font-size:12px;opacity:1.0;stroke:rgb(16.1%,15.3%,14.1%);stroke-opacity:1.0;stroke-width:1.0\" id=\"t45330bfc8bbe415ea29e993043709d49\"><g class=\"toyplot-coordinates-Cartesian\" id=\"t4043eda8a3824c1cb6782c9f8f7fa100\"><clipPath id=\"te09b2cf845df434795c210bdbe7923d1\"><rect x=\"35.0\" y=\"35.0\" width=\"230.0\" height=\"230.0\"></rect></clipPath><g clip-path=\"url(#te09b2cf845df434795c210bdbe7923d1)\"><g class=\"toytree-mark-Toytree\" id=\"t5ed27fef7d684f8aa9ee1311f309ff39\"><g class=\"toytree-Edges\" style=\"stroke:rgb(14.5%,14.5%,14.5%);stroke-opacity:1.0;stroke-linecap:round;stroke-width:2;fill:none\"><path d=\"M 70.0 54.3 L 56.7 72.9\" id=\"8,0\" style=\"\"></path><path d=\"M 70.0 54.3 L 83.4 213.8\" id=\"8,1\" style=\"\"></path><path d=\"M 123.3 56.0 L 110.0 74.5\" id=\"9,2\" style=\"\"></path><path d=\"M 123.3 56.0 L 136.7 93.1\" id=\"9,3\" style=\"\"></path><path d=\"M 183.3 54.7 L 163.3 73.3\" id=\"11,4\" style=\"\"></path><path d=\"M 203.3 54.9 L 190.0 73.5\" id=\"10,5\" style=\"\"></path><path d=\"M 203.3 54.9 L 216.6 73.5\" id=\"10,6\" style=\"\"></path><path d=\"M 155.6 54.0 L 243.3 72.5\" id=\"13,7\" style=\"\"></path><path d=\"M 155.6 54.0 L 70.0 54.3\" id=\"13,8\" style=\"\"></path><path d=\"M 153.3 54.4 L 123.3 56.0\" id=\"12,9\" style=\"\"></path><path d=\"M 183.3 54.7 L 203.3 54.9\" id=\"11,10\" style=\"\"></path><path d=\"M 153.3 54.4 L 183.3 54.7\" id=\"12,11\" style=\"\"></path><path d=\"M 155.6 54.0 L 153.3 54.4\" id=\"13,12\" style=\"\"></path></g><g class=\"toytree-AlignEdges\" style=\"stroke:rgb(66.0%,66.0%,66.0%);stroke-opacity:0.75;stroke-dasharray:2,4;stroke-linecap:round;stroke-width:2\"><path d=\"M 56.7 213.8 L 56.7 72.9\"></path><path d=\"M 83.4 213.8 L 83.4 213.8\"></path><path d=\"M 110.0 213.8 L 110.0 74.5\"></path><path d=\"M 136.7 213.8 L 136.7 93.1\"></path><path d=\"M 163.3 213.8 L 163.3 73.3\"></path><path d=\"M 190.0 213.8 L 190.0 73.5\"></path><path d=\"M 216.6 213.8 L 216.6 73.5\"></path><path d=\"M 243.3 213.8 L 243.3 72.5\"></path></g><g class=\"toytree-AdmixEdges\" style=\"fill:rgb(0.0%,0.0%,0.0%);fill-opacity:0.0;stroke:rgb(90.6%,54.1%,76.5%);stroke-opacity:0.6;font-size:14px;stroke-linecap:round;stroke-width:5\"></g><g class=\"toytree-Nodes\" style=\"fill:rgb(40.0%,76.1%,64.7%);fill-opacity:1.0;stroke:rgb(14.5%,14.5%,14.5%);stroke-opacity:1.0;stroke-width:1.5\"><g id=\"Node-0\" transform=\"translate(56.7164,72.8599)\"><circle r=\"3.5\"></circle></g><g id=\"Node-1\" transform=\"translate(83.3689,213.78)\"><circle r=\"3.5\"></circle></g><g id=\"Node-2\" transform=\"translate(110.021,74.5174)\"><circle r=\"3.5\"></circle></g><g id=\"Node-3\" transform=\"translate(136.674,93.0536)\"><circle r=\"3.5\"></circle></g><g id=\"Node-4\" transform=\"translate(163.326,73.2782)\"><circle r=\"3.5\"></circle></g><g id=\"Node-5\" transform=\"translate(189.979,73.4804)\"><circle r=\"3.5\"></circle></g><g id=\"Node-6\" transform=\"translate(216.631,73.4804)\"><circle r=\"3.5\"></circle></g><g id=\"Node-7\" transform=\"translate(243.284,72.5309)\"><circle r=\"3.5\"></circle></g><g id=\"Node-8\" transform=\"translate(70.0426,54.3237)\"><circle r=\"3.5\"></circle></g><g id=\"Node-9\" transform=\"translate(123.348,55.9811)\"><circle r=\"3.5\"></circle></g><g id=\"Node-10\" transform=\"translate(203.305,54.9441)\"><circle r=\"3.5\"></circle></g><g id=\"Node-11\" transform=\"translate(183.316,54.742)\"><circle r=\"3.5\"></circle></g><g id=\"Node-12\" transform=\"translate(153.332,54.369)\"><circle r=\"3.5\"></circle></g><g id=\"Node-13\" transform=\"translate(155.553,53.9946)\"><circle r=\"3.5\"></circle></g></g><g class=\"toytree-TipLabels\" style=\"fill:rgb(14.5%,14.5%,14.5%);fill-opacity:1.0;font-family:Helvetica;font-size:12px;font-weight:300;vertical-align:baseline;white-space:pre;stroke:none\"><g class=\"toytree-TipLabel\" transform=\"translate(56.7164,213.78)rotate(90)\"><text x=\"12.0\" y=\"3.066\" style=\"fill:rgb(14.5%,14.5%,14.5%);fill-opacity:1.0\">r0</text></g><g class=\"toytree-TipLabel\" transform=\"translate(83.3689,213.78)rotate(90)\"><text x=\"12.0\" y=\"3.066\" style=\"fill:rgb(14.5%,14.5%,14.5%);fill-opacity:1.0\">r5</text></g><g class=\"toytree-TipLabel\" transform=\"translate(110.021,213.78)rotate(90)\"><text x=\"12.0\" y=\"3.066\" style=\"fill:rgb(14.5%,14.5%,14.5%);fill-opacity:1.0\">r4</text></g><g class=\"toytree-TipLabel\" transform=\"translate(136.674,213.78)rotate(90)\"><text x=\"12.0\" y=\"3.066\" style=\"fill:rgb(14.5%,14.5%,14.5%);fill-opacity:1.0\">r2</text></g><g class=\"toytree-TipLabel\" transform=\"translate(163.326,213.78)rotate(90)\"><text x=\"12.0\" y=\"3.066\" style=\"fill:rgb(14.5%,14.5%,14.5%);fill-opacity:1.0\">r7</text></g><g class=\"toytree-TipLabel\" transform=\"translate(189.979,213.78)rotate(90)\"><text x=\"12.0\" y=\"3.066\" style=\"fill:rgb(14.5%,14.5%,14.5%);fill-opacity:1.0\">r3</text></g><g class=\"toytree-TipLabel\" transform=\"translate(216.631,213.78)rotate(90)\"><text x=\"12.0\" y=\"3.066\" style=\"fill:rgb(14.5%,14.5%,14.5%);fill-opacity:1.0\">r6</text></g><g class=\"toytree-TipLabel\" transform=\"translate(243.284,213.78)rotate(90)\"><text x=\"12.0\" y=\"3.066\" style=\"fill:rgb(14.5%,14.5%,14.5%);fill-opacity:1.0\">r1</text></g></g></g></g><g class=\"toyplot-coordinates-Axis\" id=\"t06cedf405836421eb5ab9f2b1591866e\" transform=\"translate(50.0,250.0)rotate(-90.0)translate(0,-15.0)\"><line x1=\"36.22012015850698\" y1=\"0\" x2=\"196.00536878435386\" y2=\"0\" style=\"\"></line><g><line x1=\"36.22012015850698\" y1=\"0\" x2=\"36.22012015850698\" y2=\"5\" style=\"\"></line><line x1=\"91.82883438480266\" y1=\"0\" x2=\"91.82883438480266\" y2=\"5\" style=\"\"></line><line x1=\"147.43754861109835\" y1=\"0\" x2=\"147.43754861109835\" y2=\"5\" style=\"\"></line></g><g><g transform=\"translate(36.22012015850698,-6)\"><text x=\"-2.78\" y=\"-4.440892098500626e-16\" style=\"fill:rgb(16.1%,15.3%,14.1%);fill-opacity:1.0;font-family:helvetica;font-size:10.0px;font-weight:normal;stroke:none;vertical-align:baseline;white-space:pre\">0</text></g><g transform=\"translate(91.82883438480266,-6)\"><text x=\"-2.78\" y=\"-4.440892098500626e-16\" style=\"fill:rgb(16.1%,15.3%,14.1%);fill-opacity:1.0;font-family:helvetica;font-size:10.0px;font-weight:normal;stroke:none;vertical-align:baseline;white-space:pre\">3</text></g><g transform=\"translate(147.43754861109835,-6)\"><text x=\"-2.78\" y=\"-4.440892098500626e-16\" style=\"fill:rgb(16.1%,15.3%,14.1%);fill-opacity:1.0;font-family:helvetica;font-size:10.0px;font-weight:normal;stroke:none;vertical-align:baseline;white-space:pre\">6</text></g></g><g class=\"toyplot-coordinates-Axis-coordinates\" style=\"visibility:hidden\" transform=\"\"><line x1=\"0\" x2=\"0\" y1=\"3.0\" y2=\"-4.5\" style=\"stroke:rgb(43.9%,50.2%,56.5%);stroke-opacity:1.0;stroke-width:1.0\"></line><text x=\"0\" y=\"6\" style=\"alignment-baseline:hanging;fill:rgb(43.9%,50.2%,56.5%);fill-opacity:1.0;font-size:10px;font-weight:normal;stroke:none;text-anchor:middle\"></text></g></g></g></svg><div class=\"toyplot-behavior\"><script>(function()\n",
       "{\n",
       "var modules={};\n",
       "modules[\"toyplot/canvas/id\"] = \"t45330bfc8bbe415ea29e993043709d49\";\n",
       "modules[\"toyplot/canvas\"] = (function(canvas_id)\n",
       "    {\n",
       "        return document.querySelector(\"#\" + canvas_id);\n",
       "    })(modules[\"toyplot/canvas/id\"]);\n",
       "modules[\"toyplot.coordinates.Axis\"] = (\n",
       "        function(canvas)\n",
       "        {\n",
       "            function sign(x)\n",
       "            {\n",
       "                return x < 0 ? -1 : x > 0 ? 1 : 0;\n",
       "            }\n",
       "\n",
       "            function mix(a, b, amount)\n",
       "            {\n",
       "                return ((1.0 - amount) * a) + (amount * b);\n",
       "            }\n",
       "\n",
       "            function log(x, base)\n",
       "            {\n",
       "                return Math.log(Math.abs(x)) / Math.log(base);\n",
       "            }\n",
       "\n",
       "            function in_range(a, x, b)\n",
       "            {\n",
       "                var left = Math.min(a, b);\n",
       "                var right = Math.max(a, b);\n",
       "                return left <= x && x <= right;\n",
       "            }\n",
       "\n",
       "            function inside(range, projection)\n",
       "            {\n",
       "                for(var i = 0; i != projection.length; ++i)\n",
       "                {\n",
       "                    var segment = projection[i];\n",
       "                    if(in_range(segment.range.min, range, segment.range.max))\n",
       "                        return true;\n",
       "                }\n",
       "                return false;\n",
       "            }\n",
       "\n",
       "            function to_domain(range, projection)\n",
       "            {\n",
       "                for(var i = 0; i != projection.length; ++i)\n",
       "                {\n",
       "                    var segment = projection[i];\n",
       "                    if(in_range(segment.range.bounds.min, range, segment.range.bounds.max))\n",
       "                    {\n",
       "                        if(segment.scale == \"linear\")\n",
       "                        {\n",
       "                            var amount = (range - segment.range.min) / (segment.range.max - segment.range.min);\n",
       "                            return mix(segment.domain.min, segment.domain.max, amount)\n",
       "                        }\n",
       "                        else if(segment.scale[0] == \"log\")\n",
       "                        {\n",
       "                            var amount = (range - segment.range.min) / (segment.range.max - segment.range.min);\n",
       "                            var base = segment.scale[1];\n",
       "                            return sign(segment.domain.min) * Math.pow(base, mix(log(segment.domain.min, base), log(segment.domain.max, base), amount));\n",
       "                        }\n",
       "                    }\n",
       "                }\n",
       "            }\n",
       "\n",
       "            var axes = {};\n",
       "\n",
       "            function display_coordinates(e)\n",
       "            {\n",
       "                var current = canvas.createSVGPoint();\n",
       "                current.x = e.clientX;\n",
       "                current.y = e.clientY;\n",
       "\n",
       "                for(var axis_id in axes)\n",
       "                {\n",
       "                    var axis = document.querySelector(\"#\" + axis_id);\n",
       "                    var coordinates = axis.querySelector(\".toyplot-coordinates-Axis-coordinates\");\n",
       "                    if(coordinates)\n",
       "                    {\n",
       "                        var projection = axes[axis_id];\n",
       "                        var local = current.matrixTransform(axis.getScreenCTM().inverse());\n",
       "                        if(inside(local.x, projection))\n",
       "                        {\n",
       "                            var domain = to_domain(local.x, projection);\n",
       "                            coordinates.style.visibility = \"visible\";\n",
       "                            coordinates.setAttribute(\"transform\", \"translate(\" + local.x + \")\");\n",
       "                            var text = coordinates.querySelector(\"text\");\n",
       "                            text.textContent = domain.toFixed(2);\n",
       "                        }\n",
       "                        else\n",
       "                        {\n",
       "                            coordinates.style.visibility= \"hidden\";\n",
       "                        }\n",
       "                    }\n",
       "                }\n",
       "            }\n",
       "\n",
       "            canvas.addEventListener(\"click\", display_coordinates);\n",
       "\n",
       "            var module = {};\n",
       "            module.show_coordinates = function(axis_id, projection)\n",
       "            {\n",
       "                axes[axis_id] = projection;\n",
       "            }\n",
       "\n",
       "            return module;\n",
       "        })(modules[\"toyplot/canvas\"]);\n",
       "(function(axis, axis_id, projection)\n",
       "        {\n",
       "            axis.show_coordinates(axis_id, projection);\n",
       "        })(modules[\"toyplot.coordinates.Axis\"],\"t06cedf405836421eb5ab9f2b1591866e\",[{\"domain\": {\"bounds\": {\"max\": Infinity, \"min\": -Infinity}, \"max\": 8.835659057409735, \"min\": -1.9540167757401363}, \"range\": {\"bounds\": {\"max\": Infinity, \"min\": -Infinity}, \"max\": 200.0, \"min\": 0.0}, \"scale\": \"linear\"}]);\n",
       "})();</script></div></div>"
      ]
     },
     "metadata": {},
     "output_type": "display_data"
    }
   ],
   "source": [
    "tree.draw(tree_style=\"c\",\n",
    "         tip_labels_align=True);\n",
    "# admixture_edges=admix"
   ]
  }
 ],
 "metadata": {
  "kernelspec": {
   "display_name": "Python 3",
   "language": "python",
   "name": "python3"
  },
  "language_info": {
   "codemirror_mode": {
    "name": "ipython",
    "version": 3
   },
   "file_extension": ".py",
   "mimetype": "text/x-python",
   "name": "python",
   "nbconvert_exporter": "python",
   "pygments_lexer": "ipython3",
   "version": "3.8.5"
  }
 },
 "nbformat": 4,
 "nbformat_minor": 5
}
