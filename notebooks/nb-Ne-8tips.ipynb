{
 "cells": [
  {
   "cell_type": "markdown",
   "metadata": {},
   "source": [
    "## Generation-time branch attraction\n",
    "\n",
    "This notebook focuses on Ne effects"
   ]
  },
  {
   "cell_type": "code",
   "execution_count": 1,
   "metadata": {},
   "outputs": [],
   "source": [
    "import toytree\n",
    "import toyplot, toyplot.svg\n",
    "import ipcoal\n",
    "import numpy as np\n",
    "import ipyrad.analysis as ipa"
   ]
  },
  {
   "cell_type": "markdown",
   "metadata": {},
   "source": [
    "### Simulation scenario with deep divergences"
   ]
  },
  {
   "cell_type": "code",
   "execution_count": 2,
   "metadata": {},
   "outputs": [
    {
     "data": {
      "text/html": [
       "<div class=\"toyplot\" id=\"tc351152160934510a4701ead31899f24\" style=\"text-align:center\"><svg class=\"toyplot-canvas-Canvas\" height=\"260.0px\" id=\"td7cc23300dbb41fcac9d7c210d98e443\" preserveAspectRatio=\"xMidYMid meet\" style=\"background-color:transparent;border-color:#292724;border-style:none;border-width:1.0;fill:rgb(16.1%,15.3%,14.1%);fill-opacity:1.0;font-family:Helvetica;font-size:12px;opacity:1.0;stroke:rgb(16.1%,15.3%,14.1%);stroke-opacity:1.0;stroke-width:1.0\" viewBox=\"0 0 350.0 260.0\" width=\"350.0px\" xmlns=\"http://www.w3.org/2000/svg\" xmlns:toyplot=\"http://www.sandia.gov/toyplot\" xmlns:xlink=\"http://www.w3.org/1999/xlink\"><g class=\"toyplot-coordinates-Cartesian\" id=\"tb8faeb0adb384eb38fa9e27c61e9a324\"><clipPath id=\"t4e56442a0c5541a1becda86f4885b899\"><rect height=\"200.0\" width=\"290.0\" x=\"30.0\" y=\"30.0\"></rect></clipPath><g clip-path=\"url(#t4e56442a0c5541a1becda86f4885b899)\"><g class=\"toytree-mark-Toytree\" id=\"ta7edbcdc8faf48a6900ff74b3e9d9370\"><g class=\"toytree-Edges\" style=\"fill:none;stroke:rgb(14.9%,14.9%,14.9%);stroke-linecap:round;stroke-opacity:1;stroke-width:2\"><path d=\"M 255.0 61.5 L 223.3 79.0\" id=\"14,13\"></path><path d=\"M 223.3 79.0 L 191.9 96.6\" id=\"13,12\"></path><path d=\"M 191.9 96.6 L 161.0 114.1\" id=\"12,11\"></path><path d=\"M 161.0 114.1 L 131.2 131.6\" id=\"11,10\"></path><path d=\"M 131.2 131.6 L 103.3 149.1\" id=\"10,9\"></path><path d=\"M 103.3 149.1 L 79.3 166.7\" id=\"9,8\"></path><path d=\"M 255.0 61.5 L 286.6 184.2\" id=\"14,7\"></path><path d=\"M 223.3 79.0 L 254.7 184.2\" id=\"13,6\"></path><path d=\"M 191.9 96.6 L 222.8 184.2\" id=\"12,5\"></path><path d=\"M 161.0 114.1 L 190.9 184.2\" id=\"11,4\"></path><path d=\"M 131.2 131.6 L 159.1 184.2\" id=\"10,3\"></path><path d=\"M 103.3 149.1 L 127.2 184.2\" id=\"9,2\"></path><path d=\"M 79.3 166.7 L 95.3 184.2\" id=\"8,1\"></path><path d=\"M 79.3 166.7 L 63.4 184.2\" id=\"8,0\"></path></g><g class=\"toytree-Nodes\" style=\"fill:rgb(40%,76.1%,64.7%);fill-opacity:1.0;stroke:rgb(14.9%,14.9%,14.9%);stroke-opacity:1.0;stroke-width:1\"><g id=\"node-0\" transform=\"translate(63.393,184.184)\"><circle r=\"7.5\"></circle></g><g id=\"node-1\" transform=\"translate(95.281,184.184)\"><circle r=\"7.5\"></circle></g><g id=\"node-2\" transform=\"translate(127.168,184.184)\"><circle r=\"7.5\"></circle></g><g id=\"node-3\" transform=\"translate(159.056,184.184)\"><circle r=\"7.5\"></circle></g><g id=\"node-4\" transform=\"translate(190.944,184.184)\"><circle r=\"7.5\"></circle></g><g id=\"node-5\" transform=\"translate(222.832,184.184)\"><circle r=\"7.5\"></circle></g><g id=\"node-6\" transform=\"translate(254.719,184.184)\"><circle r=\"7.5\"></circle></g><g id=\"node-7\" transform=\"translate(286.607,184.184)\"><circle r=\"7.5\"></circle></g><g id=\"node-8\" transform=\"translate(79.337,166.658)\"><circle r=\"7.5\"></circle></g><g id=\"node-9\" transform=\"translate(103.253,149.132)\"><circle r=\"7.5\"></circle></g><g id=\"node-10\" transform=\"translate(131.154,131.606)\"><circle r=\"7.5\"></circle></g><g id=\"node-11\" transform=\"translate(161.049,114.080)\"><circle r=\"7.5\"></circle></g><g id=\"node-12\" transform=\"translate(191.940,96.554)\"><circle r=\"7.5\"></circle></g><g id=\"node-13\" transform=\"translate(223.330,79.028)\"><circle r=\"7.5\"></circle></g><g id=\"node-14\" transform=\"translate(254.969,61.501)\"><circle r=\"7.5\"></circle></g></g><g class=\"toytree-NodeLabels\" style=\"fill:rgb(14.9%,14.9%,14.9%);fill-opacity:1.0;font-size:9px;stroke:none\"><g transform=\"translate(60.89,186.48)\"><text>0</text></g><g transform=\"translate(92.78,186.48)\"><text>1</text></g><g transform=\"translate(124.67,186.48)\"><text>2</text></g><g transform=\"translate(156.55,186.48)\"><text>3</text></g><g transform=\"translate(188.44,186.48)\"><text>4</text></g><g transform=\"translate(220.33,186.48)\"><text>5</text></g><g transform=\"translate(252.22,186.48)\"><text>6</text></g><g transform=\"translate(284.11,186.48)\"><text>7</text></g><g transform=\"translate(76.83,168.96)\"><text>8</text></g><g transform=\"translate(100.75,151.43)\"><text>9</text></g><g transform=\"translate(126.15,133.91)\"><text>10</text></g><g transform=\"translate(156.05,116.38)\"><text>11</text></g><g transform=\"translate(186.94,98.85)\"><text>12</text></g><g transform=\"translate(218.33,81.33)\"><text>13</text></g><g transform=\"translate(249.96,63.80)\"><text>14</text></g></g><g class=\"toytree-TipLabels\" style=\"fill:rgb(14.9%,14.9%,14.9%);fill-opacity:1.0;font-family:helvetica;font-size:11px;font-weight:normal;stroke:none;white-space:pre\"><g transform=\"translate(63.39,184.18)rotate(-90)\"><text style=\"\" x=\"-24.78\" y=\"2.81\">r0</text></g><g transform=\"translate(95.28,184.18)rotate(-90)\"><text style=\"\" x=\"-24.78\" y=\"2.81\">r1</text></g><g transform=\"translate(127.17,184.18)rotate(-90)\"><text style=\"\" x=\"-24.78\" y=\"2.81\">r2</text></g><g transform=\"translate(159.06,184.18)rotate(-90)\"><text style=\"\" x=\"-24.78\" y=\"2.81\">r3</text></g><g transform=\"translate(190.94,184.18)rotate(-90)\"><text style=\"\" x=\"-24.78\" y=\"2.81\">r4</text></g><g transform=\"translate(222.83,184.18)rotate(-90)\"><text style=\"\" x=\"-24.78\" y=\"2.81\">r5</text></g><g transform=\"translate(254.72,184.18)rotate(-90)\"><text style=\"\" x=\"-24.78\" y=\"2.81\">r6</text></g><g transform=\"translate(286.61,184.18)rotate(-90)\"><text style=\"\" x=\"-24.78\" y=\"2.81\">r7</text></g></g></g></g><g class=\"toyplot-coordinates-Axis\" id=\"tb6977ee2a5be4151a62da5080d0e4a6b\" transform=\"translate(50.0,210.0)rotate(-90.0)translate(0,-20.0)\"><line style=\"\" x1=\"25.816196943484645\" x2=\"148.4985311665844\" y1=\"0\" y2=\"0\"></line><g><line style=\"\" x1=\"25.816196943484645\" x2=\"25.816196943484645\" y1=\"0\" y2=\"5\"></line><line style=\"\" x1=\"87.1573640550345\" x2=\"87.1573640550345\" y1=\"0\" y2=\"5\"></line><line style=\"\" x1=\"148.4985311665844\" x2=\"148.4985311665844\" y1=\"0\" y2=\"5\"></line></g><g><g transform=\"translate(25.816196943484645,-6)\"><text style=\"fill:rgb(16.1%,15.3%,14.1%);fill-opacity:1.0;font-family:helvetica;font-size:10.0px;font-weight:normal;stroke:none;vertical-align:baseline;white-space:pre\" x=\"-2.78\" y=\"-4.440892098500626e-16\">0</text></g><g transform=\"translate(87.1573640550345,-6)\"><text style=\"fill:rgb(16.1%,15.3%,14.1%);fill-opacity:1.0;font-family:helvetica;font-size:10.0px;font-weight:normal;stroke:none;vertical-align:baseline;white-space:pre\" x=\"-22.24\" y=\"-4.440892098500626e-16\">10000000</text></g><g transform=\"translate(148.4985311665844,-6)\"><text style=\"fill:rgb(16.1%,15.3%,14.1%);fill-opacity:1.0;font-family:helvetica;font-size:10.0px;font-weight:normal;stroke:none;vertical-align:baseline;white-space:pre\" x=\"-22.24\" y=\"-4.440892098500626e-16\">20000000</text></g></g><g class=\"toyplot-coordinates-Axis-coordinates\" style=\"visibility:hidden\" transform=\"\"><line style=\"stroke:rgb(43.9%,50.2%,56.5%);stroke-opacity:1.0;stroke-width:1.0\" x1=\"0\" x2=\"0\" y1=\"3.0\" y2=\"-4.5\"></line><text style=\"alignment-baseline:hanging;fill:rgb(43.9%,50.2%,56.5%);fill-opacity:1.0;font-size:10px;font-weight:normal;stroke:none;text-anchor:middle\" x=\"0\" y=\"6\"></text></g></g></g></svg><div class=\"toyplot-behavior\"><script>(function()\n",
       "{\n",
       "var modules={};\n",
       "modules[\"toyplot/canvas/id\"] = \"td7cc23300dbb41fcac9d7c210d98e443\";\n",
       "modules[\"toyplot/canvas\"] = (function(canvas_id)\n",
       "    {\n",
       "        return document.querySelector(\"#\" + canvas_id);\n",
       "    })(modules[\"toyplot/canvas/id\"]);\n",
       "modules[\"toyplot.coordinates.Axis\"] = (\n",
       "        function(canvas)\n",
       "        {\n",
       "            function sign(x)\n",
       "            {\n",
       "                return x < 0 ? -1 : x > 0 ? 1 : 0;\n",
       "            }\n",
       "\n",
       "            function mix(a, b, amount)\n",
       "            {\n",
       "                return ((1.0 - amount) * a) + (amount * b);\n",
       "            }\n",
       "\n",
       "            function log(x, base)\n",
       "            {\n",
       "                return Math.log(Math.abs(x)) / Math.log(base);\n",
       "            }\n",
       "\n",
       "            function in_range(a, x, b)\n",
       "            {\n",
       "                var left = Math.min(a, b);\n",
       "                var right = Math.max(a, b);\n",
       "                return left <= x && x <= right;\n",
       "            }\n",
       "\n",
       "            function inside(range, projection)\n",
       "            {\n",
       "                for(var i = 0; i != projection.length; ++i)\n",
       "                {\n",
       "                    var segment = projection[i];\n",
       "                    if(in_range(segment.range.min, range, segment.range.max))\n",
       "                        return true;\n",
       "                }\n",
       "                return false;\n",
       "            }\n",
       "\n",
       "            function to_domain(range, projection)\n",
       "            {\n",
       "                for(var i = 0; i != projection.length; ++i)\n",
       "                {\n",
       "                    var segment = projection[i];\n",
       "                    if(in_range(segment.range.bounds.min, range, segment.range.bounds.max))\n",
       "                    {\n",
       "                        if(segment.scale == \"linear\")\n",
       "                        {\n",
       "                            var amount = (range - segment.range.min) / (segment.range.max - segment.range.min);\n",
       "                            return mix(segment.domain.min, segment.domain.max, amount)\n",
       "                        }\n",
       "                        else if(segment.scale[0] == \"log\")\n",
       "                        {\n",
       "                            var amount = (range - segment.range.min) / (segment.range.max - segment.range.min);\n",
       "                            var base = segment.scale[1];\n",
       "                            return sign(segment.domain.min) * Math.pow(base, mix(log(segment.domain.min, base), log(segment.domain.max, base), amount));\n",
       "                        }\n",
       "                    }\n",
       "                }\n",
       "            }\n",
       "\n",
       "            var axes = {};\n",
       "\n",
       "            function display_coordinates(e)\n",
       "            {\n",
       "                var current = canvas.createSVGPoint();\n",
       "                current.x = e.clientX;\n",
       "                current.y = e.clientY;\n",
       "\n",
       "                for(var axis_id in axes)\n",
       "                {\n",
       "                    var axis = document.querySelector(\"#\" + axis_id);\n",
       "                    var coordinates = axis.querySelector(\".toyplot-coordinates-Axis-coordinates\");\n",
       "                    if(coordinates)\n",
       "                    {\n",
       "                        var projection = axes[axis_id];\n",
       "                        var local = current.matrixTransform(axis.getScreenCTM().inverse());\n",
       "                        if(inside(local.x, projection))\n",
       "                        {\n",
       "                            var domain = to_domain(local.x, projection);\n",
       "                            coordinates.style.visibility = \"visible\";\n",
       "                            coordinates.setAttribute(\"transform\", \"translate(\" + local.x + \")\");\n",
       "                            var text = coordinates.querySelector(\"text\");\n",
       "                            text.textContent = domain.toFixed(2);\n",
       "                        }\n",
       "                        else\n",
       "                        {\n",
       "                            coordinates.style.visibility= \"hidden\";\n",
       "                        }\n",
       "                    }\n",
       "                }\n",
       "            }\n",
       "\n",
       "            canvas.addEventListener(\"click\", display_coordinates);\n",
       "\n",
       "            var module = {};\n",
       "            module.show_coordinates = function(axis_id, projection)\n",
       "            {\n",
       "                axes[axis_id] = projection;\n",
       "            }\n",
       "\n",
       "            return module;\n",
       "        })(modules[\"toyplot/canvas\"]);\n",
       "(function(axis, axis_id, projection)\n",
       "        {\n",
       "            axis.show_coordinates(axis_id, projection);\n",
       "        })(modules[\"toyplot.coordinates.Axis\"],\"tb6977ee2a5be4151a62da5080d0e4a6b\",[{\"domain\": {\"bounds\": {\"max\": Infinity, \"min\": -Infinity}, \"max\": 21875000.0, \"min\": -4208624.999999998}, \"range\": {\"bounds\": {\"max\": Infinity, \"min\": -Infinity}, \"max\": 160.0, \"min\": 0.0}, \"scale\": \"linear\"}]);\n",
       "})();</script></div></div>"
      ]
     },
     "metadata": {},
     "output_type": "display_data"
    }
   ],
   "source": [
    "# get an ultrametric imbalanced tree\n",
    "tree = toytree.rtree.imbtree(8, treeheight=20e6)\n",
    "tree.draw(ts='p');"
   ]
  },
  {
   "cell_type": "markdown",
   "metadata": {},
   "source": [
    "### Make the Ne tree"
   ]
  },
  {
   "cell_type": "code",
   "execution_count": 3,
   "metadata": {},
   "outputs": [
    {
     "data": {
      "text/html": [
       "<div class=\"toyplot\" id=\"t588329b7270248a68bc85581a10c5bb6\" style=\"text-align:center\"><svg class=\"toyplot-canvas-Canvas\" height=\"260.0px\" id=\"te32b1deea2a5436e93bc1201e0b1a9ba\" preserveAspectRatio=\"xMidYMid meet\" style=\"background-color:transparent;border-color:#292724;border-style:none;border-width:1.0;fill:rgb(16.1%,15.3%,14.1%);fill-opacity:1.0;font-family:Helvetica;font-size:12px;opacity:1.0;stroke:rgb(16.1%,15.3%,14.1%);stroke-opacity:1.0;stroke-width:1.0\" viewBox=\"0 0 400.0 260.0\" width=\"400.0px\" xmlns=\"http://www.w3.org/2000/svg\" xmlns:toyplot=\"http://www.sandia.gov/toyplot\" xmlns:xlink=\"http://www.w3.org/1999/xlink\"><g class=\"toyplot-coordinates-Cartesian\" id=\"t0d1d72e604ed4f18b06b19a27bb02593\"><clipPath id=\"td03242d87b9340dbb2100bab96befbd1\"><rect height=\"200.0\" width=\"340.0\" x=\"30.0\" y=\"30.0\"></rect></clipPath><g clip-path=\"url(#td03242d87b9340dbb2100bab96befbd1)\"><g class=\"toytree-mark-Toytree\" id=\"te6dd27cf9df143c4aa3facff6f1cbfae\"><g class=\"toytree-Edges\" style=\"fill:none;stroke:rgb(14.9%,14.9%,14.9%);stroke-linecap:round;stroke-opacity:1;stroke-width:2\"><path d=\"M 299.1 50.0 L 259.9 68.9\" id=\"14,13\" style=\"stroke-width:2.0\"></path><path d=\"M 259.9 68.9 L 221.0 87.8\" id=\"13,12\" style=\"stroke-width:12.0\"></path><path d=\"M 221.0 87.8 L 182.7 106.7\" id=\"12,11\" style=\"stroke-width:12.0\"></path><path d=\"M 182.7 106.7 L 145.6 125.5\" id=\"11,10\" style=\"stroke-width:12.0\"></path><path d=\"M 145.6 125.5 L 111.0 144.4\" id=\"10,9\" style=\"stroke-width:2.0\"></path><path d=\"M 111.0 144.4 L 81.4 163.3\" id=\"9,8\" style=\"stroke-width:2.0\"></path><path d=\"M 299.1 50.0 L 338.4 182.2\" id=\"14,7\" style=\"stroke-width:2.0\"></path><path d=\"M 259.9 68.9 L 298.8 182.2\" id=\"13,6\" style=\"stroke-width:2.0\"></path><path d=\"M 221.0 87.8 L 259.3 182.2\" id=\"12,5\" style=\"stroke-width:12.0\"></path><path d=\"M 182.7 106.7 L 219.8 182.2\" id=\"11,4\" style=\"stroke-width:12.0\"></path><path d=\"M 145.6 125.5 L 180.2 182.2\" id=\"10,3\" style=\"stroke-width:12.0\"></path><path d=\"M 111.0 144.4 L 140.7 182.2\" id=\"9,2\" style=\"stroke-width:2.0\"></path><path d=\"M 81.4 163.3 L 101.2 182.2\" id=\"8,1\" style=\"stroke-width:2.0\"></path><path d=\"M 81.4 163.3 L 61.6 182.2\" id=\"8,0\" style=\"stroke-width:2.0\"></path></g><g class=\"toytree-NodeLabels\" style=\"fill:rgb(14.9%,14.9%,14.9%);fill-opacity:1.0;font-size:9px;stroke:none\"><g transform=\"translate(35.10,165.60)\"><text>0.14285714285714285</text></g><g transform=\"translate(64.76,146.72)\"><text>0.14285714285714285</text></g><g transform=\"translate(96.85,127.83)\"><text>0.014285714285714284</text></g><g transform=\"translate(133.91,108.95)\"><text>0.014285714285714284</text></g><g transform=\"translate(172.21,90.07)\"><text>0.014285714285714284</text></g><g transform=\"translate(213.63,71.18)\"><text>0.14285714285714285</text></g></g><g class=\"toytree-TipLabels\" style=\"fill:rgb(14.9%,14.9%,14.9%);fill-opacity:1.0;font-family:helvetica;font-size:11px;font-weight:normal;stroke:none;white-space:pre\"><g transform=\"translate(61.62,182.18)rotate(-90)\"><text style=\"\" x=\"-24.78\" y=\"2.81\">r0</text></g><g transform=\"translate(101.16,182.18)rotate(-90)\"><text style=\"\" x=\"-24.78\" y=\"2.81\">r1</text></g><g transform=\"translate(140.70,182.18)rotate(-90)\"><text style=\"\" x=\"-24.78\" y=\"2.81\">r2</text></g><g transform=\"translate(180.23,182.18)rotate(-90)\"><text style=\"\" x=\"-24.78\" y=\"2.81\">r3</text></g><g transform=\"translate(219.77,182.18)rotate(-90)\"><text style=\"\" x=\"-24.78\" y=\"2.81\">r4</text></g><g transform=\"translate(259.30,182.18)rotate(-90)\"><text style=\"\" x=\"-24.78\" y=\"2.81\">r5</text></g><g transform=\"translate(298.84,182.18)rotate(-90)\"><text style=\"\" x=\"-24.78\" y=\"2.81\">r6</text></g><g transform=\"translate(338.38,182.18)rotate(-90)\"><text style=\"\" x=\"-24.78\" y=\"2.81\">r7</text></g></g></g></g><g class=\"toyplot-coordinates-Axis\" id=\"tbe08c8a9ad894db0a36b9ecb7973ee4c\" transform=\"translate(50.0,210.0)rotate(-90.0)translate(0,-20.0)\"><line style=\"\" x1=\"27.81570617909938\" x2=\"160.0\" y1=\"0\" y2=\"0\"></line><g><line style=\"\" x1=\"27.81570617909938\" x2=\"27.81570617909938\" y1=\"0\" y2=\"5\"></line><line style=\"\" x1=\"93.90785308954968\" x2=\"93.90785308954968\" y1=\"0\" y2=\"5\"></line><line style=\"\" x1=\"160.0\" x2=\"160.0\" y1=\"0\" y2=\"5\"></line></g><g><g transform=\"translate(27.81570617909938,-6)\"><text style=\"fill:rgb(16.1%,15.3%,14.1%);fill-opacity:1.0;font-family:helvetica;font-size:10.0px;font-weight:normal;stroke:none;vertical-align:baseline;white-space:pre\" x=\"-2.78\" y=\"-4.440892098500626e-16\">0</text></g><g transform=\"translate(93.90785308954968,-6)\"><text style=\"fill:rgb(16.1%,15.3%,14.1%);fill-opacity:1.0;font-family:helvetica;font-size:10.0px;font-weight:normal;stroke:none;vertical-align:baseline;white-space:pre\" x=\"-22.24\" y=\"-4.440892098500626e-16\">10000000</text></g><g transform=\"translate(160.0,-6)\"><text style=\"fill:rgb(16.1%,15.3%,14.1%);fill-opacity:1.0;font-family:helvetica;font-size:10.0px;font-weight:normal;stroke:none;vertical-align:baseline;white-space:pre\" x=\"-22.24\" y=\"-4.440892098500626e-16\">20000000</text></g></g><g class=\"toyplot-coordinates-Axis-coordinates\" style=\"visibility:hidden\" transform=\"\"><line style=\"stroke:rgb(43.9%,50.2%,56.5%);stroke-opacity:1.0;stroke-width:1.0\" x1=\"0\" x2=\"0\" y1=\"3.0\" y2=\"-4.5\"></line><text style=\"alignment-baseline:hanging;fill:rgb(43.9%,50.2%,56.5%);fill-opacity:1.0;font-size:10px;font-weight:normal;stroke:none;text-anchor:middle\" x=\"0\" y=\"6\"></text></g></g></g></svg><div class=\"toyplot-behavior\"><script>(function()\n",
       "{\n",
       "var modules={};\n",
       "modules[\"toyplot/canvas/id\"] = \"te32b1deea2a5436e93bc1201e0b1a9ba\";\n",
       "modules[\"toyplot/canvas\"] = (function(canvas_id)\n",
       "    {\n",
       "        return document.querySelector(\"#\" + canvas_id);\n",
       "    })(modules[\"toyplot/canvas/id\"]);\n",
       "modules[\"toyplot.coordinates.Axis\"] = (\n",
       "        function(canvas)\n",
       "        {\n",
       "            function sign(x)\n",
       "            {\n",
       "                return x < 0 ? -1 : x > 0 ? 1 : 0;\n",
       "            }\n",
       "\n",
       "            function mix(a, b, amount)\n",
       "            {\n",
       "                return ((1.0 - amount) * a) + (amount * b);\n",
       "            }\n",
       "\n",
       "            function log(x, base)\n",
       "            {\n",
       "                return Math.log(Math.abs(x)) / Math.log(base);\n",
       "            }\n",
       "\n",
       "            function in_range(a, x, b)\n",
       "            {\n",
       "                var left = Math.min(a, b);\n",
       "                var right = Math.max(a, b);\n",
       "                return left <= x && x <= right;\n",
       "            }\n",
       "\n",
       "            function inside(range, projection)\n",
       "            {\n",
       "                for(var i = 0; i != projection.length; ++i)\n",
       "                {\n",
       "                    var segment = projection[i];\n",
       "                    if(in_range(segment.range.min, range, segment.range.max))\n",
       "                        return true;\n",
       "                }\n",
       "                return false;\n",
       "            }\n",
       "\n",
       "            function to_domain(range, projection)\n",
       "            {\n",
       "                for(var i = 0; i != projection.length; ++i)\n",
       "                {\n",
       "                    var segment = projection[i];\n",
       "                    if(in_range(segment.range.bounds.min, range, segment.range.bounds.max))\n",
       "                    {\n",
       "                        if(segment.scale == \"linear\")\n",
       "                        {\n",
       "                            var amount = (range - segment.range.min) / (segment.range.max - segment.range.min);\n",
       "                            return mix(segment.domain.min, segment.domain.max, amount)\n",
       "                        }\n",
       "                        else if(segment.scale[0] == \"log\")\n",
       "                        {\n",
       "                            var amount = (range - segment.range.min) / (segment.range.max - segment.range.min);\n",
       "                            var base = segment.scale[1];\n",
       "                            return sign(segment.domain.min) * Math.pow(base, mix(log(segment.domain.min, base), log(segment.domain.max, base), amount));\n",
       "                        }\n",
       "                    }\n",
       "                }\n",
       "            }\n",
       "\n",
       "            var axes = {};\n",
       "\n",
       "            function display_coordinates(e)\n",
       "            {\n",
       "                var current = canvas.createSVGPoint();\n",
       "                current.x = e.clientX;\n",
       "                current.y = e.clientY;\n",
       "\n",
       "                for(var axis_id in axes)\n",
       "                {\n",
       "                    var axis = document.querySelector(\"#\" + axis_id);\n",
       "                    var coordinates = axis.querySelector(\".toyplot-coordinates-Axis-coordinates\");\n",
       "                    if(coordinates)\n",
       "                    {\n",
       "                        var projection = axes[axis_id];\n",
       "                        var local = current.matrixTransform(axis.getScreenCTM().inverse());\n",
       "                        if(inside(local.x, projection))\n",
       "                        {\n",
       "                            var domain = to_domain(local.x, projection);\n",
       "                            coordinates.style.visibility = \"visible\";\n",
       "                            coordinates.setAttribute(\"transform\", \"translate(\" + local.x + \")\");\n",
       "                            var text = coordinates.querySelector(\"text\");\n",
       "                            text.textContent = domain.toFixed(2);\n",
       "                        }\n",
       "                        else\n",
       "                        {\n",
       "                            coordinates.style.visibility= \"hidden\";\n",
       "                        }\n",
       "                    }\n",
       "                }\n",
       "            }\n",
       "\n",
       "            canvas.addEventListener(\"click\", display_coordinates);\n",
       "\n",
       "            var module = {};\n",
       "            module.show_coordinates = function(axis_id, projection)\n",
       "            {\n",
       "                axes[axis_id] = projection;\n",
       "            }\n",
       "\n",
       "            return module;\n",
       "        })(modules[\"toyplot/canvas\"]);\n",
       "(function(axis, axis_id, projection)\n",
       "        {\n",
       "            axis.show_coordinates(axis_id, projection);\n",
       "        })(modules[\"toyplot.coordinates.Axis\"],\"tbe08c8a9ad894db0a36b9ecb7973ee4c\",[{\"domain\": {\"bounds\": {\"max\": Infinity, \"min\": -Infinity}, \"max\": 20000000.0, \"min\": -4208624.999999998}, \"range\": {\"bounds\": {\"max\": Infinity, \"min\": -Infinity}, \"max\": 160.0, \"min\": 0.0}, \"scale\": \"linear\"}]);\n",
       "})();</script></div></div>"
      ]
     },
     "metadata": {},
     "output_type": "display_data"
    }
   ],
   "source": [
    "# set gentime on nodes\n",
    "ntree = tree.set_node_values(\n",
    "    feature=\"Ne\", \n",
    "    values={i: 100e6 for i in (3,4,5,10,11,12)},\n",
    "    default=10e6,\n",
    ")\n",
    "\n",
    "# show tc (coalescent time units) for all node dists\n",
    "ntree = ntree.set_node_values(\n",
    "    feature=\"tc\",\n",
    "    values={\n",
    "        i: node.dist / (2 * node.Ne) \n",
    "        for i, node in ntree.idx_dict.items()\n",
    "    },\n",
    ")\n",
    "\n",
    "# draw tree showing Ne and g dists\n",
    "ntree.draw(\n",
    "    ts='p', \n",
    "    width=400, \n",
    "    node_sizes=0, \n",
    "    node_labels=ntree.get_node_values('tc', 0, 0),\n",
    "    edge_type='c',\n",
    ");\n",
    "\n",
    "# save to file\n",
    "ntree.write(\"./trees/n-tree.nwk\")"
   ]
  },
  {
   "cell_type": "markdown",
   "metadata": {},
   "source": [
    "### Simulate a concatenated sequence (chromosome)"
   ]
  },
  {
   "cell_type": "code",
   "execution_count": null,
   "metadata": {},
   "outputs": [],
   "source": [
    "# simulate a long chrom\n",
    "model = ipcoal.Model(ntree)\n",
    "model.sim_loci(1, 1e6)"
   ]
  },
  {
   "cell_type": "markdown",
   "metadata": {},
   "source": [
    "### Confirm concatenation is in the anomaly zone \n",
    "\n",
    "Here we aim to select a scenario that will lie in the 'anomaly zone', where concatenation will yield incorrect results but a proper MSC method should infer a correct result."
   ]
  },
  {
   "cell_type": "code",
   "execution_count": 4,
   "metadata": {},
   "outputs": [],
   "source": [
    "# show the total number of genealogies\n",
    "print('ngenealogies:', model.df.tidx.max())\n",
    "print('mean len of gtree: {:.2f} bp'.format(model.df.nbps.mean()))\n",
    "\n",
    "# infer concat tree\n",
    "model.infer_gene_trees(inference_args={\"T\": '20'})\n",
    "\n",
    "# draw the concat tree\n",
    "etree = toytree.tree(model.df.inferred_tree[0]).root('r7')\n",
    "etree.draw(ts='o');\n",
    "\n",
    "# save the tree\n",
    "etree.write(\"./trees/n-concat.nwk\")"
   ]
  },
  {
   "cell_type": "markdown",
   "metadata": {},
   "source": [
    "### Confirm ASTRAL-genealogy is not an anomaly\n",
    "Astral gets the correct tree when given > ~500 trees as input."
   ]
  },
  {
   "cell_type": "code",
   "execution_count": 7,
   "metadata": {},
   "outputs": [],
   "source": [
    "# simulate a long chrom\n",
    "model = ipcoal.Model(ntree)\n",
    "model.sim_trees(10000, 1)"
   ]
  },
  {
   "cell_type": "code",
   "execution_count": 9,
   "metadata": {},
   "outputs": [
    {
     "name": "stdout",
     "output_type": "stream",
     "text": [
      "10000\n",
      "[astral.5.7.1.jar]\n",
      "inferred tree written to (/home/deren/gentime-attraction/notebooks/analysis-astral/n-astral-genealogy.tre)\n"
     ]
    },
    {
     "data": {
      "text/html": [
       "<div class=\"toyplot\" id=\"te4db6f35375b40279930f2196893e18b\" style=\"text-align:center\"><svg class=\"toyplot-canvas-Canvas\" height=\"275.0px\" id=\"t69eae9775a86412783a439c25e471c96\" preserveAspectRatio=\"xMidYMid meet\" style=\"background-color:transparent;border-color:#292724;border-style:none;border-width:1.0;fill:rgb(16.1%,15.3%,14.1%);fill-opacity:1.0;font-family:Helvetica;font-size:12px;opacity:1.0;stroke:rgb(16.1%,15.3%,14.1%);stroke-opacity:1.0;stroke-width:1.0\" viewBox=\"0 0 260.0 275.0\" width=\"260.0px\" xmlns=\"http://www.w3.org/2000/svg\" xmlns:toyplot=\"http://www.sandia.gov/toyplot\" xmlns:xlink=\"http://www.w3.org/1999/xlink\"><g class=\"toyplot-coordinates-Cartesian\" id=\"te419bbffe0a14a40a75500dfcf367f82\"><clipPath id=\"t35ba00d36211481b8b9895eb98496d98\"><rect height=\"215.0\" width=\"200.0\" x=\"30.0\" y=\"30.0\"></rect></clipPath><g clip-path=\"url(#t35ba00d36211481b8b9895eb98496d98)\"><g class=\"toytree-mark-Toytree\" id=\"t723665bed6e547bb8ca22a873c353c31\"><g class=\"toytree-Edges\" style=\"fill:none;stroke:rgb(14.9%,14.9%,14.9%);stroke-linecap:round;stroke-opacity:1;stroke-width:2\"><path d=\"M 56.9 82.7 L 94.5 104.4\" id=\"14,13\"></path><path d=\"M 94.5 104.4 L 95.6 125.9\" id=\"13,12\"></path><path d=\"M 95.6 125.9 L 96.5 147.1\" id=\"12,11\"></path><path d=\"M 96.5 147.1 L 97.7 167.5\" id=\"11,10\"></path><path d=\"M 97.7 167.5 L 108.2 186.7\" id=\"10,9\"></path><path d=\"M 108.2 186.7 L 118.7 203.1\" id=\"9,8\"></path><path d=\"M 56.9 82.7 L 94.5 61.0\" id=\"14,7\"></path><path d=\"M 94.5 104.4 L 169.7 82.9\" id=\"13,6\"></path><path d=\"M 95.6 125.9 L 170.9 104.7\" id=\"12,5\"></path><path d=\"M 96.5 147.1 L 171.8 126.6\" id=\"11,4\"></path><path d=\"M 97.7 167.5 L 173.0 148.4\" id=\"10,3\"></path><path d=\"M 108.2 186.7 L 183.5 170.3\" id=\"9,2\"></path><path d=\"M 118.7 203.1 L 194.0 192.1\" id=\"8,1\"></path><path d=\"M 118.7 203.1 L 194.0 214.0\" id=\"8,0\"></path></g><g class=\"toytree-AlignEdges\" style=\"stroke:rgb(66.3%,66.3%,66.3%);stroke-dasharray:2, 4;stroke-linecap:round;stroke-opacity:1.0;stroke-width:2\"><path d=\"M 194.0 214.0 L 194.0 214.0\"></path><path d=\"M 194.0 192.1 L 194.0 192.1\"></path><path d=\"M 194.0 170.3 L 183.5 170.3\"></path><path d=\"M 194.0 148.4 L 173.0 148.4\"></path><path d=\"M 194.0 126.6 L 171.8 126.6\"></path><path d=\"M 194.0 104.7 L 170.9 104.7\"></path><path d=\"M 194.0 82.9 L 169.7 82.9\"></path><path d=\"M 194.0 61.0 L 94.5 61.0\"></path></g><g class=\"toytree-Nodes\" style=\"fill:rgb(10.6%,62%,46.7%);fill-opacity:1.0;stroke:rgb(100%,100%,100%);stroke-opacity:1.0;stroke-width:1.5\"><g id=\"node-0\" transform=\"translate(193.998,213.986)\"><circle r=\"4.0\"></circle></g><g id=\"node-1\" transform=\"translate(193.998,192.133)\"><circle r=\"4.0\"></circle></g><g id=\"node-2\" transform=\"translate(183.492,170.280)\"><circle r=\"4.0\"></circle></g><g id=\"node-3\" transform=\"translate(172.973,148.427)\"><circle r=\"4.0\"></circle></g><g id=\"node-4\" transform=\"translate(171.804,126.573)\"><circle r=\"4.0\"></circle></g><g id=\"node-5\" transform=\"translate(170.872,104.720)\"><circle r=\"4.0\"></circle></g><g id=\"node-6\" transform=\"translate(169.744,82.867)\"><circle r=\"4.0\"></circle></g><g id=\"node-7\" transform=\"translate(94.486,61.014)\"><circle r=\"4.0\"></circle></g><g id=\"node-8\" transform=\"translate(118.740,203.059)\"><circle r=\"4.0\"></circle></g><g id=\"node-9\" transform=\"translate(108.234,186.670)\"><circle r=\"4.0\"></circle></g><g id=\"node-10\" transform=\"translate(97.715,167.548)\"><circle r=\"4.0\"></circle></g><g id=\"node-11\" transform=\"translate(96.546,147.061)\"><circle r=\"4.0\"></circle></g><g id=\"node-12\" transform=\"translate(95.613,125.891)\"><circle r=\"4.0\"></circle></g><g id=\"node-13\" transform=\"translate(94.486,104.379)\"><circle r=\"4.0\"></circle></g><g id=\"node-14\" transform=\"translate(56.857,82.696)\"><circle r=\"4.0\"></circle></g></g><g class=\"toytree-TipLabels\" style=\"fill:rgb(14.9%,14.9%,14.9%);fill-opacity:1.0;font-family:helvetica;font-size:11px;font-weight:normal;stroke:none;white-space:pre\"><g transform=\"translate(194.00,213.99)rotate(0)\"><text style=\"\" x=\"15.00\" y=\"2.81\">r1</text></g><g transform=\"translate(194.00,192.13)rotate(0)\"><text style=\"\" x=\"15.00\" y=\"2.81\">r0</text></g><g transform=\"translate(194.00,170.28)rotate(0)\"><text style=\"\" x=\"15.00\" y=\"2.81\">r2</text></g><g transform=\"translate(194.00,148.43)rotate(0)\"><text style=\"\" x=\"15.00\" y=\"2.81\">r3</text></g><g transform=\"translate(194.00,126.57)rotate(0)\"><text style=\"\" x=\"15.00\" y=\"2.81\">r4</text></g><g transform=\"translate(194.00,104.72)rotate(0)\"><text style=\"\" x=\"15.00\" y=\"2.81\">r5</text></g><g transform=\"translate(194.00,82.87)rotate(0)\"><text style=\"\" x=\"15.00\" y=\"2.81\">r6</text></g><g transform=\"translate(194.00,61.01)rotate(0)\"><text style=\"\" x=\"15.00\" y=\"2.81\">r7</text></g></g></g></g></g></svg><div class=\"toyplot-behavior\"><script>(function()\n",
       "{\n",
       "var modules={};\n",
       "})();</script></div></div>"
      ]
     },
     "metadata": {},
     "output_type": "display_data"
    }
   ],
   "source": [
    "# load trees\n",
    "mtre = toytree.mtree(model.df.genealogy)\n",
    "print(len(mtre))\n",
    "\n",
    "# convert bl units to E(subst.)\n",
    "for tre in mtre.treelist:\n",
    "    for node in tre.idx_dict.values():\n",
    "        node.dist = node.dist * 1e-8\n",
    "\n",
    "# infer sptree\n",
    "ast = ipa.astral(\n",
    "    data=[i.write() for i in mtre.treelist], \n",
    "    name=\"n-astral-genealogy\",\n",
    "    #workdir=\"...\"\n",
    ")\n",
    "ast.run()\n",
    "\n",
    "# draw tree\n",
    "toytree.tree(ast.tree).root(\"r7\").draw(ts='o');"
   ]
  },
  {
   "cell_type": "markdown",
   "metadata": {},
   "source": [
    "### Confirm SNAQ-genealogy is not an anomaly"
   ]
  },
  {
   "cell_type": "code",
   "execution_count": null,
   "metadata": {},
   "outputs": [],
   "source": [
    "# simulate a long chrom\n",
    "model = ipcoal.Model(ntree)\n",
    "model.sim_trees(10000, 1)"
   ]
  },
  {
   "cell_type": "code",
   "execution_count": 11,
   "metadata": {},
   "outputs": [
    {
     "name": "stdout",
     "output_type": "stream",
     "text": [
      "10000\n",
      "using existing CF table: /home/deren/gentime-attraction/notebooks/analysis-snaq/n-snaq-genealogy.CFs.csv\n",
      "[SNAQ v.x.y]\n",
      "[nproc = 10]\n",
      "julia /home/deren/gentime-attraction/notebooks/analysis-snaq/n-snaq-genealogy.jl\n",
      "inferred network written to (/home/deren/gentime-attraction/notebooks/analysis-snaq/n-snaq-genealogy.snaq)\n"
     ]
    }
   ],
   "source": [
    "# load trees\n",
    "mtre = toytree.mtree(model.df.genealogy)\n",
    "print(len(mtre))\n",
    "\n",
    "# convert bl units to E(subst.)\n",
    "for tre in mtre.treelist:\n",
    "    for node in tre.idx_dict.values():\n",
    "        node.dist = node.dist * 1e-8\n",
    "\n",
    "# write results to files\n",
    "mtre.write(\"/tmp/trees.nwk\")\n",
    "\n",
    "# infer sptree\n",
    "snaq = ipa.snaq(\n",
    "    gtrees=\"/tmp/trees.nwk\",\n",
    "    netin=\"./analysis-astral/n-astral-genealogy.tre\",\n",
    "    name=\"n-snaq-genealogy\",\n",
    "    nedges=1,\n",
    "    nruns=10,\n",
    "    nproc=10,\n",
    ")\n",
    "snaq.run()"
   ]
  },
  {
   "cell_type": "code",
   "execution_count": 20,
   "metadata": {},
   "outputs": [
    {
     "data": {
      "text/html": [
       "<div class=\"toyplot\" id=\"t4dffa7b137214fde8d3302e70fbdce86\" style=\"text-align:center\"><svg class=\"toyplot-canvas-Canvas\" height=\"275.0px\" id=\"t8a351065dd724075b6f8e592624526e5\" preserveAspectRatio=\"xMidYMid meet\" style=\"background-color:transparent;border-color:#292724;border-style:none;border-width:1.0;fill:rgb(16.1%,15.3%,14.1%);fill-opacity:1.0;font-family:Helvetica;font-size:12px;opacity:1.0;stroke:rgb(16.1%,15.3%,14.1%);stroke-opacity:1.0;stroke-width:1.0\" viewBox=\"0 0 260.0 275.0\" width=\"260.0px\" xmlns=\"http://www.w3.org/2000/svg\" xmlns:toyplot=\"http://www.sandia.gov/toyplot\" xmlns:xlink=\"http://www.w3.org/1999/xlink\"><g class=\"toyplot-coordinates-Cartesian\" id=\"tda39518508f94088b1531064685ad67b\"><clipPath id=\"tfbfdc1993be5419ab28d3248cb38ce7e\"><rect height=\"215.0\" width=\"200.0\" x=\"30.0\" y=\"30.0\"></rect></clipPath><g clip-path=\"url(#tfbfdc1993be5419ab28d3248cb38ce7e)\"><g class=\"toytree-mark-Toytree\" id=\"tf38701eb869e4b758e2235f34a35cebc\"><g class=\"toytree-Edges\" style=\"fill:none;stroke:rgb(14.9%,14.9%,14.9%);stroke-linecap:round;stroke-opacity:1;stroke-width:2\"><path d=\"M 62.4 84.0 L 62.4 105.2 L 81.3 105.2\" id=\"14,13\"></path><path d=\"M 81.3 105.2 L 81.3 126.2 L 100.2 126.2\" id=\"13,12\"></path><path d=\"M 100.2 126.2 L 100.2 146.8 L 119.0 146.8\" id=\"12,11\"></path><path d=\"M 119.0 146.8 L 119.0 166.8 L 137.9 166.8\" id=\"11,10\"></path><path d=\"M 137.9 166.8 L 137.9 185.5 L 156.8 185.5\" id=\"10,9\"></path><path d=\"M 156.8 185.5 L 156.8 201.5 L 175.7 201.5\" id=\"9,8\"></path><path d=\"M 62.4 84.0 L 62.4 62.8 L 194.6 62.8\" id=\"14,7\"></path><path d=\"M 81.3 105.2 L 81.3 84.1 L 194.6 84.1\" id=\"13,6\"></path><path d=\"M 100.2 126.2 L 100.2 105.5 L 194.6 105.5\" id=\"12,5\"></path><path d=\"M 119.0 146.8 L 119.0 126.8 L 194.6 126.8\" id=\"11,4\"></path><path d=\"M 137.9 166.8 L 137.9 148.2 L 194.6 148.2\" id=\"10,3\"></path><path d=\"M 156.8 185.5 L 156.8 169.5 L 194.6 169.5\" id=\"9,2\"></path><path d=\"M 175.7 201.5 L 175.7 190.9 L 194.6 190.9\" id=\"8,1\"></path><path d=\"M 175.7 201.5 L 175.7 212.2 L 194.6 212.2\" id=\"8,0\"></path></g><g class=\"toytree-AdmixEdges\" style=\"fill:none;font-size:14px;stroke:rgba(90.6%,54.1%,76.5%,1.000);stroke-linecap:round;stroke-opacity:0.6;stroke-width:5\"><path d=\"M 119.0 146.8 L 109.6 146.8 L 175.7 169.5 L 156.8 169.5\" style=\"stroke:rgb(98.8%,55.3%,38.4%);stroke-opacity:0.7\"></path><text style=\"fill:#262626;fill-opacity:1.0;stroke:none;stroke-opacity:0.7;text-anchor:middle\" x=\"142.65\" y=\"170.17\">0.041</text></g><g class=\"toytree-Nodes\" style=\"fill:rgb(82.7%,82.7%,82.7%);fill-opacity:1.0;stroke:rgb(14.9%,14.9%,14.9%);stroke-opacity:1.0;stroke-width:1.5\"><g id=\"node-0\" transform=\"translate(194.577,212.195)\"><circle r=\"7.5\"></circle></g><g id=\"node-1\" transform=\"translate(194.577,190.854)\"><circle r=\"7.5\"></circle></g><g id=\"node-2\" transform=\"translate(194.577,169.512)\"><circle r=\"7.5\"></circle></g><g id=\"node-3\" transform=\"translate(194.577,148.171)\"><circle r=\"7.5\"></circle></g><g id=\"node-4\" transform=\"translate(194.577,126.829)\"><circle r=\"7.5\"></circle></g><g id=\"node-5\" transform=\"translate(194.577,105.488)\"><circle r=\"7.5\"></circle></g><g id=\"node-6\" transform=\"translate(194.577,84.146)\"><circle r=\"7.5\"></circle></g><g id=\"node-7\" transform=\"translate(194.577,62.805)\"><circle r=\"7.5\"></circle></g><g id=\"node-8\" transform=\"translate(175.693,201.524)\"><circle r=\"7.5\"></circle></g><g id=\"node-9\" transform=\"translate(156.810,185.518)\"><circle r=\"7.5\"></circle></g><g id=\"node-10\" transform=\"translate(137.926,166.845)\"><circle r=\"7.5\"></circle></g><g id=\"node-11\" transform=\"translate(119.043,146.837)\"><circle r=\"7.5\"></circle></g><g id=\"node-12\" transform=\"translate(100.159,126.162)\"><circle r=\"7.5\"></circle></g><g id=\"node-13\" transform=\"translate(81.276,105.154)\"><circle r=\"7.5\"></circle></g><g id=\"node-14\" transform=\"translate(62.392,83.980)\"><circle r=\"7.5\"></circle></g></g><g class=\"toytree-NodeLabels\" style=\"fill:rgb(14.9%,14.9%,14.9%);fill-opacity:1.0;font-size:9px;stroke:none\"><g transform=\"translate(192.07,214.49)\"><text>0</text></g><g transform=\"translate(192.07,193.15)\"><text>1</text></g><g transform=\"translate(192.07,171.81)\"><text>2</text></g><g transform=\"translate(192.07,150.47)\"><text>3</text></g><g transform=\"translate(192.07,129.13)\"><text>4</text></g><g transform=\"translate(192.07,107.79)\"><text>5</text></g><g transform=\"translate(192.07,86.45)\"><text>6</text></g><g transform=\"translate(192.07,65.10)\"><text>7</text></g><g transform=\"translate(173.19,203.82)\"><text>8</text></g><g transform=\"translate(154.31,187.82)\"><text>9</text></g><g transform=\"translate(132.92,169.14)\"><text>10</text></g><g transform=\"translate(114.04,149.14)\"><text>11</text></g><g transform=\"translate(95.16,128.46)\"><text>12</text></g><g transform=\"translate(76.27,107.45)\"><text>13</text></g><g transform=\"translate(57.39,86.28)\"><text>14</text></g></g><g class=\"toytree-TipLabels\" style=\"fill:rgb(14.9%,14.9%,14.9%);fill-opacity:1.0;font-family:helvetica;font-size:11px;font-weight:normal;stroke:none;white-space:pre\"><g transform=\"translate(194.58,212.20)rotate(0)\"><text style=\"\" x=\"15.00\" y=\"2.81\">r1</text></g><g transform=\"translate(194.58,190.85)rotate(0)\"><text style=\"\" x=\"15.00\" y=\"2.81\">r0</text></g><g transform=\"translate(194.58,169.51)rotate(0)\"><text style=\"\" x=\"15.00\" y=\"2.81\">r2</text></g><g transform=\"translate(194.58,148.17)rotate(0)\"><text style=\"\" x=\"15.00\" y=\"2.81\">r3</text></g><g transform=\"translate(194.58,126.83)rotate(0)\"><text style=\"\" x=\"15.00\" y=\"2.81\">r4</text></g><g transform=\"translate(194.58,105.49)rotate(0)\"><text style=\"\" x=\"15.00\" y=\"2.81\">r5</text></g><g transform=\"translate(194.58,84.15)rotate(0)\"><text style=\"\" x=\"15.00\" y=\"2.81\">r6</text></g><g transform=\"translate(194.58,62.80)rotate(0)\"><text style=\"\" x=\"15.00\" y=\"2.81\">r7</text></g></g></g></g></g></svg><div class=\"toyplot-behavior\"><script>(function()\n",
       "{\n",
       "var modules={};\n",
       "})();</script></div></div>"
      ]
     },
     "metadata": {},
     "output_type": "display_data"
    }
   ],
   "source": [
    "# draw tree\n",
    "toytree.tree(snaq.tree).root(\"r7\").draw(ts='s', admixture_edges=snaq.admix.values());"
   ]
  },
  {
   "cell_type": "markdown",
   "metadata": {},
   "source": [
    "### Estimate gene trees"
   ]
  },
  {
   "cell_type": "code",
   "execution_count": null,
   "metadata": {},
   "outputs": [],
   "source": [
    "# simulate loci that are each 3000bp in length\n",
    "model = ipcoal.Model(ntree, seed=12345)\n",
    "model.sim_loci(nloci=10000, nsites=2e3)\n",
    "model.write_loci_to_hdf5(name=\"8tips-imb-10K-n\", outdir=\"db\")\n",
    "model.write_snps_to_hdf5(name=\"8tips-imb-10K-n\", outdir=\"db\")"
   ]
  },
  {
   "cell_type": "code",
   "execution_count": 24,
   "metadata": {},
   "outputs": [],
   "source": [
    "# ipa.treeslider(\n",
    "#     data=\"./db/8tips-imb-10K-n.seqs.hdf5\",\n",
    "# )"
   ]
  },
  {
   "cell_type": "code",
   "execution_count": 21,
   "metadata": {},
   "outputs": [],
   "source": [
    "NSEQS = \"./db/8tips-imb-10K-n.seqs.hdf5\""
   ]
  },
  {
   "cell_type": "code",
   "execution_count": null,
   "metadata": {},
   "outputs": [],
   "source": [
    "for idx in range(1000):\n",
    "\n",
    "    # load H5 and write chrom to tmp phylip\n",
    "    wex = ipa.window_extracter(\n",
    "        NSEQS,\n",
    "        name=str(idx), \n",
    "        scaffold_idxs=idx,\n",
    "        quiet=True,\n",
    "    )\n",
    "    wex.run(force=True)\n",
    "\n",
    "    # load phylip and infer raxml tree\n",
    "    rax = ipa.raxml(\n",
    "        wex.outfile, \n",
    "        name=str(idx), \n",
    "        workdir=\"./analysis-raxml/8tips-1K-5K-{}\".format(dname),\n",
    "        quiet=True,\n",
    "        T=50, \n",
    "        N=10,\n",
    "        f='d',\n",
    "        p=12345,\n",
    "        x=None,\n",
    "    )\n",
    "    rax.run(force=True, quiet=True)"
   ]
  },
  {
   "cell_type": "code",
   "execution_count": 33,
   "metadata": {},
   "outputs": [],
   "source": [
    "import glob\n",
    "trees = glob.glob(\"./analysis-raxml/8tips-n/*bestTree*\")\n",
    "mtre = toytree.mtree([toytree.tree(i) for i in trees])\n",
    "mtre.write(\"/tmp/trees.nwk\")"
   ]
  },
  {
   "cell_type": "code",
   "execution_count": 34,
   "metadata": {},
   "outputs": [],
   "source": [
    "snaq = ipa.snaq(\n",
    "    gtrees=\"/tmp/trees.nwk\",\n",
    "    netin=\"./analysis-astral/n-astral-genealogy.tre\",\n",
    "    name=\"n-snaq-genetrees\",\n",
    "    nedges=1,\n",
    "    nruns=10,\n",
    "    nproc=10,\n",
    ")"
   ]
  },
  {
   "cell_type": "code",
   "execution_count": 35,
   "metadata": {},
   "outputs": [
    {
     "name": "stdout",
     "output_type": "stream",
     "text": [
      "[SNAQ v.x.y]\n",
      "[nproc = 10]\n",
      "julia /home/deren/gentime-attraction/notebooks/analysis-snaq/n-snaq-genetrees.jl\n",
      "inferred network written to (/home/deren/gentime-attraction/notebooks/analysis-snaq/n-snaq-genetrees.snaq)\n"
     ]
    }
   ],
   "source": [
    "snaq.run()"
   ]
  },
  {
   "cell_type": "code",
   "execution_count": 36,
   "metadata": {},
   "outputs": [
    {
     "data": {
      "text/html": [
       "<div class=\"toyplot\" id=\"t4d346accba9f46e390e378e4cec7f997\" style=\"text-align:center\"><svg class=\"toyplot-canvas-Canvas\" height=\"275.0px\" id=\"t7aaaf23e5d8a4290a3fdb71aa0b6facc\" preserveAspectRatio=\"xMidYMid meet\" style=\"background-color:transparent;border-color:#292724;border-style:none;border-width:1.0;fill:rgb(16.1%,15.3%,14.1%);fill-opacity:1.0;font-family:Helvetica;font-size:12px;opacity:1.0;stroke:rgb(16.1%,15.3%,14.1%);stroke-opacity:1.0;stroke-width:1.0\" viewBox=\"0 0 260.0 275.0\" width=\"260.0px\" xmlns=\"http://www.w3.org/2000/svg\" xmlns:toyplot=\"http://www.sandia.gov/toyplot\" xmlns:xlink=\"http://www.w3.org/1999/xlink\"><g class=\"toyplot-coordinates-Cartesian\" id=\"t6c70de4da28540b6a6abeea0b0ea40af\"><clipPath id=\"t4cc017fd75584438acdc07f371007cbc\"><rect height=\"215.0\" width=\"200.0\" x=\"30.0\" y=\"30.0\"></rect></clipPath><g clip-path=\"url(#t4cc017fd75584438acdc07f371007cbc)\"><g class=\"toytree-mark-Toytree\" id=\"t6a62a94584f04b18ae68e86db3f61521\"><g class=\"toytree-Edges\" style=\"fill:none;stroke:rgb(14.9%,14.9%,14.9%);stroke-linecap:round;stroke-opacity:1;stroke-width:2\"><path d=\"M 62.4 84.0 L 62.4 105.2 L 81.3 105.2\" id=\"14,13\"></path><path d=\"M 81.3 105.2 L 81.3 126.2 L 100.2 126.2\" id=\"13,12\"></path><path d=\"M 100.2 126.2 L 100.2 146.8 L 119.0 146.8\" id=\"12,11\"></path><path d=\"M 119.0 146.8 L 119.0 166.8 L 137.9 166.8\" id=\"11,10\"></path><path d=\"M 137.9 166.8 L 137.9 185.5 L 156.8 185.5\" id=\"10,9\"></path><path d=\"M 156.8 185.5 L 156.8 201.5 L 175.7 201.5\" id=\"9,8\"></path><path d=\"M 62.4 84.0 L 62.4 62.8 L 194.6 62.8\" id=\"14,7\"></path><path d=\"M 81.3 105.2 L 81.3 84.1 L 194.6 84.1\" id=\"13,6\"></path><path d=\"M 100.2 126.2 L 100.2 105.5 L 194.6 105.5\" id=\"12,5\"></path><path d=\"M 119.0 146.8 L 119.0 126.8 L 194.6 126.8\" id=\"11,4\"></path><path d=\"M 137.9 166.8 L 137.9 148.2 L 194.6 148.2\" id=\"10,3\"></path><path d=\"M 156.8 185.5 L 156.8 169.5 L 194.6 169.5\" id=\"9,2\"></path><path d=\"M 175.7 201.5 L 175.7 190.9 L 194.6 190.9\" id=\"8,1\"></path><path d=\"M 175.7 201.5 L 175.7 212.2 L 194.6 212.2\" id=\"8,0\"></path></g><g class=\"toytree-AdmixEdges\" style=\"fill:none;font-size:14px;stroke:rgba(90.6%,54.1%,76.5%,1.000);stroke-linecap:round;stroke-opacity:0.6;stroke-width:5\"><path d=\"M 194.6 169.5 L 185.1 169.5 L 185.1 212.2 L 175.7 212.2\" style=\"stroke:rgb(98.8%,55.3%,38.4%);stroke-opacity:0.7\"></path><text style=\"fill:#262626;fill-opacity:1.0;stroke:none;stroke-opacity:0.7;text-anchor:middle\" x=\"185.13\" y=\"202.85\">0.241</text></g><g class=\"toytree-Nodes\" style=\"fill:rgb(82.7%,82.7%,82.7%);fill-opacity:1.0;stroke:rgb(14.9%,14.9%,14.9%);stroke-opacity:1.0;stroke-width:1.5\"><g id=\"node-0\" transform=\"translate(194.577,212.195)\"><circle r=\"7.5\"></circle></g><g id=\"node-1\" transform=\"translate(194.577,190.854)\"><circle r=\"7.5\"></circle></g><g id=\"node-2\" transform=\"translate(194.577,169.512)\"><circle r=\"7.5\"></circle></g><g id=\"node-3\" transform=\"translate(194.577,148.171)\"><circle r=\"7.5\"></circle></g><g id=\"node-4\" transform=\"translate(194.577,126.829)\"><circle r=\"7.5\"></circle></g><g id=\"node-5\" transform=\"translate(194.577,105.488)\"><circle r=\"7.5\"></circle></g><g id=\"node-6\" transform=\"translate(194.577,84.146)\"><circle r=\"7.5\"></circle></g><g id=\"node-7\" transform=\"translate(194.577,62.805)\"><circle r=\"7.5\"></circle></g><g id=\"node-8\" transform=\"translate(175.693,201.524)\"><circle r=\"7.5\"></circle></g><g id=\"node-9\" transform=\"translate(156.810,185.518)\"><circle r=\"7.5\"></circle></g><g id=\"node-10\" transform=\"translate(137.926,166.845)\"><circle r=\"7.5\"></circle></g><g id=\"node-11\" transform=\"translate(119.043,146.837)\"><circle r=\"7.5\"></circle></g><g id=\"node-12\" transform=\"translate(100.159,126.162)\"><circle r=\"7.5\"></circle></g><g id=\"node-13\" transform=\"translate(81.276,105.154)\"><circle r=\"7.5\"></circle></g><g id=\"node-14\" transform=\"translate(62.392,83.980)\"><circle r=\"7.5\"></circle></g></g><g class=\"toytree-NodeLabels\" style=\"fill:rgb(14.9%,14.9%,14.9%);fill-opacity:1.0;font-size:9px;stroke:none\"><g transform=\"translate(192.07,214.49)\"><text>0</text></g><g transform=\"translate(192.07,193.15)\"><text>1</text></g><g transform=\"translate(192.07,171.81)\"><text>2</text></g><g transform=\"translate(192.07,150.47)\"><text>3</text></g><g transform=\"translate(192.07,129.13)\"><text>4</text></g><g transform=\"translate(192.07,107.79)\"><text>5</text></g><g transform=\"translate(192.07,86.45)\"><text>6</text></g><g transform=\"translate(192.07,65.10)\"><text>7</text></g><g transform=\"translate(173.19,203.82)\"><text>8</text></g><g transform=\"translate(154.31,187.82)\"><text>9</text></g><g transform=\"translate(132.92,169.14)\"><text>10</text></g><g transform=\"translate(114.04,149.14)\"><text>11</text></g><g transform=\"translate(95.16,128.46)\"><text>12</text></g><g transform=\"translate(76.27,107.45)\"><text>13</text></g><g transform=\"translate(57.39,86.28)\"><text>14</text></g></g><g class=\"toytree-TipLabels\" style=\"fill:rgb(14.9%,14.9%,14.9%);fill-opacity:1.0;font-family:helvetica;font-size:11px;font-weight:normal;stroke:none;white-space:pre\"><g transform=\"translate(194.58,212.20)rotate(0)\"><text style=\"\" x=\"15.00\" y=\"2.81\">r0</text></g><g transform=\"translate(194.58,190.85)rotate(0)\"><text style=\"\" x=\"15.00\" y=\"2.81\">r1</text></g><g transform=\"translate(194.58,169.51)rotate(0)\"><text style=\"\" x=\"15.00\" y=\"2.81\">r2</text></g><g transform=\"translate(194.58,148.17)rotate(0)\"><text style=\"\" x=\"15.00\" y=\"2.81\">r3</text></g><g transform=\"translate(194.58,126.83)rotate(0)\"><text style=\"\" x=\"15.00\" y=\"2.81\">r4</text></g><g transform=\"translate(194.58,105.49)rotate(0)\"><text style=\"\" x=\"15.00\" y=\"2.81\">r5</text></g><g transform=\"translate(194.58,84.15)rotate(0)\"><text style=\"\" x=\"15.00\" y=\"2.81\">r6</text></g><g transform=\"translate(194.58,62.80)rotate(0)\"><text style=\"\" x=\"15.00\" y=\"2.81\">r7</text></g></g></g></g></g></svg><div class=\"toyplot-behavior\"><script>(function()\n",
       "{\n",
       "var modules={};\n",
       "})();</script></div></div>"
      ]
     },
     "metadata": {},
     "output_type": "display_data"
    }
   ],
   "source": [
    "# draw tree\n",
    "toytree.tree(snaq.tree).root(\"r7\").draw(ts='s', admixture_edges=snaq.admix.values());"
   ]
  }
 ],
 "metadata": {
  "kernelspec": {
   "display_name": "Python 3",
   "language": "python",
   "name": "python3"
  },
  "language_info": {
   "codemirror_mode": {
    "name": "ipython",
    "version": 3
   },
   "file_extension": ".py",
   "mimetype": "text/x-python",
   "name": "python",
   "nbconvert_exporter": "python",
   "pygments_lexer": "ipython3",
   "version": "3.7.6"
  }
 },
 "nbformat": 4,
 "nbformat_minor": 4
}
