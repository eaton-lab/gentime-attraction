{
 "cells": [
  {
   "cell_type": "markdown",
   "id": "heard-distributor",
   "metadata": {},
   "source": [
    "# Inferred SNaQ result toytree network plotting (nloci=1000)\n",
    "\n",
    "Plot best network given optimized number of hybrid edges\n",
    "\n",
    "Interpretation: gamma = % chance alternative topology (following admixture edge) is preferred if retracing coalescence backwards\n"
   ]
  },
  {
   "cell_type": "code",
   "execution_count": 1,
   "id": "promising-texture",
   "metadata": {},
   "outputs": [],
   "source": [
    "import toytree\n",
    "import toyplot\n",
    "import ipcoal\n",
    "import toyplot.color\n",
    "import toyplot.svg\n",
    "from itertools import chain\n",
    "import pandas as pd\n",
    "import numpy as np\n",
    "\n",
    "orange = toyplot.color.Palette()[1]"
   ]
  },
  {
   "cell_type": "markdown",
   "id": "binary-production",
   "metadata": {},
   "source": [
    "## 4.0 WORKING FULL DEMO for 1 network plot\n",
    "\n",
    "Example: 4.1.1 SNaQ Unlinked Vary Ne only"
   ]
  },
  {
   "cell_type": "code",
   "execution_count": 113,
   "id": "level-mediterranean",
   "metadata": {},
   "outputs": [
    {
     "data": {
      "text/plain": [
       "[(['r2'], ['r5'], 0.5, {}, '0.092')]"
      ]
     },
     "execution_count": 113,
     "metadata": {},
     "output_type": "execute_result"
    }
   ],
   "source": [
    "# load network\n",
    "NET_411 = \"(r1,(r0,(r5,#H9:::0.09198576117548107):7.6024044989286965):0.017750679032023185,((r4,(r2)#H9:::0.9080142388245189):0.08697294376239265,((r3,r6):0.010907262651298124,r7):0.020120677723735755):0.020196173428294724);\"\n",
    "tree_411, admix_411 = toytree.network.parse_network_to_tree_and_admix(NET_411)\n",
    "admix_411"
   ]
  },
  {
   "cell_type": "code",
   "execution_count": 114,
   "id": "ordered-laser",
   "metadata": {},
   "outputs": [
    {
     "data": {
      "text/html": [
       "<div class=\"toyplot\" id=\"t5b84ce1a5d0748c4a957c2020948b420\" style=\"text-align:center\"><svg class=\"toyplot-canvas-Canvas\" xmlns:toyplot=\"http://www.sandia.gov/toyplot\" xmlns:xlink=\"http://www.w3.org/1999/xlink\" xmlns=\"http://www.w3.org/2000/svg\" width=\"300.0px\" height=\"275.0px\" viewBox=\"0 0 300.0 275.0\" preserveAspectRatio=\"xMidYMid meet\" style=\"background-color:transparent;border-color:#292724;border-style:none;border-width:1.0;fill:rgb(16.1%,15.3%,14.1%);fill-opacity:1.0;font-family:Helvetica;font-size:12px;opacity:1.0;stroke:rgb(16.1%,15.3%,14.1%);stroke-opacity:1.0;stroke-width:1.0\" id=\"tdea07b5993434009ba43f14e40e26324\"><g class=\"toyplot-coordinates-Cartesian\" id=\"t97631a9fb3da482b8d4e788e37a863b8\"><clipPath id=\"t5d7186aa8c6049878eb7019b1e64791e\"><rect x=\"35.0\" y=\"35.0\" width=\"230.0\" height=\"205.0\"></rect></clipPath><g clip-path=\"url(#t5d7186aa8c6049878eb7019b1e64791e)\"><g class=\"toytree-mark-Toytree\" id=\"t4683dfc1b9b441fcbe25a0294d5de578\"><g class=\"toytree-Edges\" style=\"stroke:rgb(14.5%,14.5%,14.5%);stroke-opacity:1.0;stroke-linecap:round;stroke-width:2;fill:none\"><path d=\"M 54.0 181.5 L 213.8 218.3\" id=\"14,0\" style=\"\"></path><path d=\"M 181.8 183.7 L 213.8 195.2\" id=\"8,1\" style=\"\"></path><path d=\"M 181.8 183.7 L 213.8 172.1\" id=\"8,2\" style=\"\"></path><path d=\"M 181.8 137.5 L 213.8 149.0\" id=\"9,3\" style=\"\"></path><path d=\"M 181.8 137.5 L 213.8 126.0\" id=\"9,4\" style=\"\"></path><path d=\"M 181.8 91.3 L 213.8 102.9\" id=\"10,5\" style=\"\"></path><path d=\"M 181.8 91.3 L 213.8 79.8\" id=\"10,6\" style=\"\"></path><path d=\"M 149.9 74.0 L 213.8 56.7\" id=\"11,7\" style=\"\"></path><path d=\"M 86.0 144.7 L 181.8 183.7\" id=\"13,8\" style=\"\"></path><path d=\"M 117.9 105.7 L 181.8 137.5\" id=\"12,9\" style=\"\"></path><path d=\"M 149.9 74.0 L 181.8 91.3\" id=\"11,10\" style=\"\"></path><path d=\"M 117.9 105.7 L 149.9 74.0\" id=\"12,11\" style=\"\"></path><path d=\"M 86.0 144.7 L 117.9 105.7\" id=\"13,12\" style=\"\"></path><path d=\"M 54.0 181.5 L 86.0 144.7\" id=\"14,13\" style=\"\"></path></g><g class=\"toytree-AlignEdges\" style=\"stroke:rgb(66.0%,66.0%,66.0%);stroke-opacity:0.75;stroke-dasharray:2,4;stroke-linecap:round;stroke-width:2\"><path d=\"M 213.8 218.3 L 213.8 218.3\"></path><path d=\"M 213.8 195.2 L 213.8 195.2\"></path><path d=\"M 213.8 172.1 L 213.8 172.1\"></path><path d=\"M 213.8 149.0 L 213.8 149.0\"></path><path d=\"M 213.8 126.0 L 213.8 126.0\"></path><path d=\"M 213.8 102.9 L 213.8 102.9\"></path><path d=\"M 213.8 79.8 L 213.8 79.8\"></path><path d=\"M 213.8 56.7 L 213.8 56.7\"></path></g><g class=\"toytree-AdmixEdges\" style=\"fill:rgb(0.0%,0.0%,0.0%);fill-opacity:0.0;stroke:rgb(90.6%,54.1%,76.5%);stroke-opacity:0.6;font-size:14px;stroke-linecap:round;stroke-width:5\"><path d=\"M 213.78 125.95 L 197.80 131.73 L 197.80 85.53 L 181.82 91.30\" style=\"stroke:rgb(98.8%,55.3%,38.4%);stroke-opacity:1.0\"></path><text x=\"197.80\" y=\"120.63\" style=\"fill:rgb(14.9%,14.9%,14.9%);fill-opacity:1.0;stroke:rgb(0.0%,0.0%,0.0%);stroke-opacity:0.0;text-anchor:middle\">0.092</text></g><g class=\"toytree-Nodes\" style=\"fill:rgb(40.0%,76.1%,64.7%);fill-opacity:1.0;stroke:rgb(14.5%,14.5%,14.5%);stroke-opacity:1.0;stroke-width:1.5\"><g id=\"Node-0\" transform=\"translate(213.78,218.347)\"><circle r=\"3.5\"></circle></g><g id=\"Node-1\" transform=\"translate(213.78,195.248)\"><circle r=\"3.5\"></circle></g><g id=\"Node-2\" transform=\"translate(213.78,172.149)\"><circle r=\"3.5\"></circle></g><g id=\"Node-3\" transform=\"translate(213.78,149.05)\"><circle r=\"3.5\"></circle></g><g id=\"Node-4\" transform=\"translate(213.78,125.95)\"><circle r=\"3.5\"></circle></g><g id=\"Node-5\" transform=\"translate(213.78,102.851)\"><circle r=\"3.5\"></circle></g><g id=\"Node-6\" transform=\"translate(213.78,79.7518)\"><circle r=\"3.5\"></circle></g><g id=\"Node-7\" transform=\"translate(213.78,56.6526)\"><circle r=\"3.5\"></circle></g><g id=\"Node-8\" transform=\"translate(181.823,183.699)\"><circle r=\"3.5\"></circle></g><g id=\"Node-9\" transform=\"translate(181.823,137.5)\"><circle r=\"3.5\"></circle></g><g id=\"Node-10\" transform=\"translate(181.823,91.3015)\"><circle r=\"3.5\"></circle></g><g id=\"Node-11\" transform=\"translate(149.866,73.977)\"><circle r=\"3.5\"></circle></g><g id=\"Node-12\" transform=\"translate(117.909,105.739)\"><circle r=\"3.5\"></circle></g><g id=\"Node-13\" transform=\"translate(85.9517,144.719)\"><circle r=\"3.5\"></circle></g><g id=\"Node-14\" transform=\"translate(53.9946,181.533)\"><circle r=\"3.5\"></circle></g></g><g class=\"toytree-TipLabels\" style=\"fill:rgb(14.5%,14.5%,14.5%);fill-opacity:1.0;font-family:Helvetica;font-size:12px;font-weight:300;vertical-align:baseline;white-space:pre;stroke:none\"><g class=\"toytree-TipLabel\" transform=\"translate(213.78,218.347)\"><text x=\"12.0\" y=\"3.066\" style=\"fill:rgb(14.5%,14.5%,14.5%);fill-opacity:1.0\">r7</text></g><g class=\"toytree-TipLabel\" transform=\"translate(213.78,195.248)\"><text x=\"12.0\" y=\"3.066\" style=\"fill:rgb(14.5%,14.5%,14.5%);fill-opacity:1.0\">r3</text></g><g class=\"toytree-TipLabel\" transform=\"translate(213.78,172.149)\"><text x=\"12.0\" y=\"3.066\" style=\"fill:rgb(14.5%,14.5%,14.5%);fill-opacity:1.0\">r6</text></g><g class=\"toytree-TipLabel\" transform=\"translate(213.78,149.05)\"><text x=\"12.0\" y=\"3.066\" style=\"fill:rgb(14.5%,14.5%,14.5%);fill-opacity:1.0\">r4</text></g><g class=\"toytree-TipLabel\" transform=\"translate(213.78,125.95)\"><text x=\"12.0\" y=\"3.066\" style=\"fill:rgb(14.5%,14.5%,14.5%);fill-opacity:1.0\">r2</text></g><g class=\"toytree-TipLabel\" transform=\"translate(213.78,102.851)\"><text x=\"12.0\" y=\"3.066\" style=\"fill:rgb(14.5%,14.5%,14.5%);fill-opacity:1.0\">r0</text></g><g class=\"toytree-TipLabel\" transform=\"translate(213.78,79.7518)\"><text x=\"12.0\" y=\"3.066\" style=\"fill:rgb(14.5%,14.5%,14.5%);fill-opacity:1.0\">r5</text></g><g class=\"toytree-TipLabel\" transform=\"translate(213.78,56.6526)\"><text x=\"12.0\" y=\"3.066\" style=\"fill:rgb(14.5%,14.5%,14.5%);fill-opacity:1.0\">r1</text></g></g></g></g><g class=\"toyplot-coordinates-Axis\" id=\"te21996af82dc4a19893c91b1416e1cfc\" transform=\"translate(50.0,225.0)translate(0,15.0)\"><line x1=\"3.9946312156461716\" y1=\"0\" x2=\"163.77987984149303\" y2=\"0\" style=\"\"></line><g><line x1=\"3.9946312156461716\" y1=\"0\" x2=\"3.9946312156461716\" y2=\"-5\" style=\"\"></line><line x1=\"35.95168094081554\" y1=\"0\" x2=\"35.95168094081554\" y2=\"-5\" style=\"\"></line><line x1=\"67.90873066598492\" y1=\"0\" x2=\"67.90873066598492\" y2=\"-5\" style=\"\"></line><line x1=\"99.86578039115429\" y1=\"0\" x2=\"99.86578039115429\" y2=\"-5\" style=\"\"></line><line x1=\"131.82283011632364\" y1=\"0\" x2=\"131.82283011632364\" y2=\"-5\" style=\"\"></line><line x1=\"163.77987984149303\" y1=\"0\" x2=\"163.77987984149303\" y2=\"-5\" style=\"\"></line></g><g><g transform=\"translate(3.9946312156461716,6)\"><text x=\"-2.78\" y=\"8.555\" style=\"fill:rgb(16.1%,15.3%,14.1%);fill-opacity:1.0;font-family:helvetica;font-size:10.0px;font-weight:normal;stroke:none;vertical-align:baseline;white-space:pre\">5</text></g><g transform=\"translate(35.95168094081554,6)\"><text x=\"-2.78\" y=\"8.555\" style=\"fill:rgb(16.1%,15.3%,14.1%);fill-opacity:1.0;font-family:helvetica;font-size:10.0px;font-weight:normal;stroke:none;vertical-align:baseline;white-space:pre\">4</text></g><g transform=\"translate(67.90873066598492,6)\"><text x=\"-2.78\" y=\"8.555\" style=\"fill:rgb(16.1%,15.3%,14.1%);fill-opacity:1.0;font-family:helvetica;font-size:10.0px;font-weight:normal;stroke:none;vertical-align:baseline;white-space:pre\">3</text></g><g transform=\"translate(99.86578039115429,6)\"><text x=\"-2.78\" y=\"8.555\" style=\"fill:rgb(16.1%,15.3%,14.1%);fill-opacity:1.0;font-family:helvetica;font-size:10.0px;font-weight:normal;stroke:none;vertical-align:baseline;white-space:pre\">2</text></g><g transform=\"translate(131.82283011632364,6)\"><text x=\"-2.78\" y=\"8.555\" style=\"fill:rgb(16.1%,15.3%,14.1%);fill-opacity:1.0;font-family:helvetica;font-size:10.0px;font-weight:normal;stroke:none;vertical-align:baseline;white-space:pre\">1</text></g><g transform=\"translate(163.77987984149303,6)\"><text x=\"-2.78\" y=\"8.555\" style=\"fill:rgb(16.1%,15.3%,14.1%);fill-opacity:1.0;font-family:helvetica;font-size:10.0px;font-weight:normal;stroke:none;vertical-align:baseline;white-space:pre\">0</text></g></g><g class=\"toyplot-coordinates-Axis-coordinates\" style=\"visibility:hidden\" transform=\"\"><line x1=\"0\" x2=\"0\" y1=\"-3.0\" y2=\"4.5\" style=\"stroke:rgb(43.9%,50.2%,56.5%);stroke-opacity:1.0;stroke-width:1.0\"></line><text x=\"0\" y=\"-6\" style=\"alignment-baseline:alphabetic;fill:rgb(43.9%,50.2%,56.5%);fill-opacity:1.0;font-size:10px;font-weight:normal;stroke:none;text-anchor:middle\"></text></g></g></g></svg><div class=\"toyplot-behavior\"><script>(function()\n",
       "{\n",
       "var modules={};\n",
       "modules[\"toyplot/canvas/id\"] = \"tdea07b5993434009ba43f14e40e26324\";\n",
       "modules[\"toyplot/canvas\"] = (function(canvas_id)\n",
       "    {\n",
       "        return document.querySelector(\"#\" + canvas_id);\n",
       "    })(modules[\"toyplot/canvas/id\"]);\n",
       "modules[\"toyplot.coordinates.Axis\"] = (\n",
       "        function(canvas)\n",
       "        {\n",
       "            function sign(x)\n",
       "            {\n",
       "                return x < 0 ? -1 : x > 0 ? 1 : 0;\n",
       "            }\n",
       "\n",
       "            function mix(a, b, amount)\n",
       "            {\n",
       "                return ((1.0 - amount) * a) + (amount * b);\n",
       "            }\n",
       "\n",
       "            function log(x, base)\n",
       "            {\n",
       "                return Math.log(Math.abs(x)) / Math.log(base);\n",
       "            }\n",
       "\n",
       "            function in_range(a, x, b)\n",
       "            {\n",
       "                var left = Math.min(a, b);\n",
       "                var right = Math.max(a, b);\n",
       "                return left <= x && x <= right;\n",
       "            }\n",
       "\n",
       "            function inside(range, projection)\n",
       "            {\n",
       "                for(var i = 0; i != projection.length; ++i)\n",
       "                {\n",
       "                    var segment = projection[i];\n",
       "                    if(in_range(segment.range.min, range, segment.range.max))\n",
       "                        return true;\n",
       "                }\n",
       "                return false;\n",
       "            }\n",
       "\n",
       "            function to_domain(range, projection)\n",
       "            {\n",
       "                for(var i = 0; i != projection.length; ++i)\n",
       "                {\n",
       "                    var segment = projection[i];\n",
       "                    if(in_range(segment.range.bounds.min, range, segment.range.bounds.max))\n",
       "                    {\n",
       "                        if(segment.scale == \"linear\")\n",
       "                        {\n",
       "                            var amount = (range - segment.range.min) / (segment.range.max - segment.range.min);\n",
       "                            return mix(segment.domain.min, segment.domain.max, amount)\n",
       "                        }\n",
       "                        else if(segment.scale[0] == \"log\")\n",
       "                        {\n",
       "                            var amount = (range - segment.range.min) / (segment.range.max - segment.range.min);\n",
       "                            var base = segment.scale[1];\n",
       "                            return sign(segment.domain.min) * Math.pow(base, mix(log(segment.domain.min, base), log(segment.domain.max, base), amount));\n",
       "                        }\n",
       "                    }\n",
       "                }\n",
       "            }\n",
       "\n",
       "            var axes = {};\n",
       "\n",
       "            function display_coordinates(e)\n",
       "            {\n",
       "                var current = canvas.createSVGPoint();\n",
       "                current.x = e.clientX;\n",
       "                current.y = e.clientY;\n",
       "\n",
       "                for(var axis_id in axes)\n",
       "                {\n",
       "                    var axis = document.querySelector(\"#\" + axis_id);\n",
       "                    var coordinates = axis.querySelector(\".toyplot-coordinates-Axis-coordinates\");\n",
       "                    if(coordinates)\n",
       "                    {\n",
       "                        var projection = axes[axis_id];\n",
       "                        var local = current.matrixTransform(axis.getScreenCTM().inverse());\n",
       "                        if(inside(local.x, projection))\n",
       "                        {\n",
       "                            var domain = to_domain(local.x, projection);\n",
       "                            coordinates.style.visibility = \"visible\";\n",
       "                            coordinates.setAttribute(\"transform\", \"translate(\" + local.x + \")\");\n",
       "                            var text = coordinates.querySelector(\"text\");\n",
       "                            text.textContent = domain.toFixed(2);\n",
       "                        }\n",
       "                        else\n",
       "                        {\n",
       "                            coordinates.style.visibility= \"hidden\";\n",
       "                        }\n",
       "                    }\n",
       "                }\n",
       "            }\n",
       "\n",
       "            canvas.addEventListener(\"click\", display_coordinates);\n",
       "\n",
       "            var module = {};\n",
       "            module.show_coordinates = function(axis_id, projection)\n",
       "            {\n",
       "                axes[axis_id] = projection;\n",
       "            }\n",
       "\n",
       "            return module;\n",
       "        })(modules[\"toyplot/canvas\"]);\n",
       "(function(axis, axis_id, projection)\n",
       "        {\n",
       "            axis.show_coordinates(axis_id, projection);\n",
       "        })(modules[\"toyplot.coordinates.Axis\"],\"te21996af82dc4a19893c91b1416e1cfc\",[{\"domain\": {\"bounds\": {\"max\": Infinity, \"min\": -Infinity}, \"max\": 1.1334, \"min\": -5.125}, \"range\": {\"bounds\": {\"max\": Infinity, \"min\": -Infinity}, \"max\": 200.0, \"min\": 0.0}, \"scale\": \"linear\"}]);\n",
       "})();</script></div></div>"
      ]
     },
     "metadata": {},
     "output_type": "display_data"
    }
   ],
   "source": [
    "# plot network\n",
    "start, dest, midpt, dict_plot_temp, gamma = admix_411[0]\n",
    "\n",
    "tree_411_root = tree_411.root(\"r7\")\n",
    "\n",
    "c_411, a, m = tree_411_root.draw(tree_style=\"c\",\n",
    "          tip_labels_align=True,\n",
    "          use_edge_lengths=False,\n",
    "          admixture_edges=[(start[0], dest[0], midpt, {'stroke': orange}, gamma)],\n",
    "          layout = \"r\",\n",
    "        );"
   ]
  },
  {
   "cell_type": "code",
   "execution_count": null,
   "id": "french-muscle",
   "metadata": {},
   "outputs": [],
   "source": [
    "toyplot.svg.render(c_411, fobj=\"./nb4_treefigs/snaq_411.svg\")"
   ]
  },
  {
   "cell_type": "markdown",
   "id": "norman-microwave",
   "metadata": {},
   "source": [
    "## 4.1-4.3 LOOP to generate all network plots\n",
    "\n",
    "Refer to key below 4.1.1 to 4.3.3"
   ]
  },
  {
   "cell_type": "code",
   "execution_count": 2,
   "id": "aerial-response",
   "metadata": {},
   "outputs": [],
   "source": [
    "# load all networks\n",
    "NET_ALL = [\n",
    "\"(((r7,#H9:8.738::0.129):0.11,r4):0.019,(r6,((r3,((r0,r1):0.03,r2):0.03):0.0)#H9:0.0::0.871):0.011,r5);\",\n",
    "\"(r0,r1,(r2,((r3,(((r6,r5):0.007,r4):0.0)#H9:0.011::0.974):0.024,(#H9:0.0::0.026,r7):9.71):0.016):0.022);\",\n",
    "\"((r3,(((r6,r7):0.039,r5):0.016,(r4,#H9:0.0::0.017):9.946):0.049):0.053,r2,((r0,r1):0.0)#H9:0.039::0.983);\",\n",
    "\"(r0,r1,(((r3,r4):0.006,((r5,(r6,#H9:::0.129):0.207):0.028,r7):0.012):0.05,(r2)#H9:::0.871):0.011);\",\n",
    "\"(r1,(r2,(((r6,((r5,#H9:::0.274):0.061,r7):0.006):0.011,r3):0.006,r4):0.054):0.076,(r0)#H9:::0.726);\",\n",
    "\"(r0,r1,((((r5,(r6,r7):0.029):0.028,(r4)#H9:::0.953):0.031,r3):0.069,(r2,#H9:::0.047):0.572):0.028);\",\n",
    "\"(r0,(r2,((r6,(r3,(r7,(r5)#H9:::0.967):0.004):0.005):0.008,r4):0.026):0.051,(r1,#H9:::0.033):9.711);\",\n",
    "\"(r0,r1,(r2,((r4,(r7)#H9:::0.885):0.017,((r6,r5):0.01,(r3,#H9:::0.115):0.1):0.008):0.013):0.042);\",\n",
    "\"(r0,r1,(r2,(r3,((r4,#H9:::0.447):0.024,(r6,(r7,(r5)#H9:::0.553):0.025):0.059):0.035):0.02):0.045);\",\n",
    "]"
   ]
  },
  {
   "cell_type": "code",
   "execution_count": 3,
   "id": "difficult-processor",
   "metadata": {},
   "outputs": [
    {
     "data": {
      "text/html": [
       "<div>\n",
       "<style scoped>\n",
       "    .dataframe tbody tr th:only-of-type {\n",
       "        vertical-align: middle;\n",
       "    }\n",
       "\n",
       "    .dataframe tbody tr th {\n",
       "        vertical-align: top;\n",
       "    }\n",
       "\n",
       "    .dataframe thead th {\n",
       "        text-align: right;\n",
       "    }\n",
       "</style>\n",
       "<table border=\"1\" class=\"dataframe\">\n",
       "  <thead>\n",
       "    <tr style=\"text-align: right;\">\n",
       "      <th></th>\n",
       "      <th>sim_type</th>\n",
       "      <th>snaq_net</th>\n",
       "    </tr>\n",
       "  </thead>\n",
       "  <tbody>\n",
       "    <tr>\n",
       "      <th>0</th>\n",
       "      <td>411</td>\n",
       "      <td>(((r7,#H9:8.738::0.129):...</td>\n",
       "    </tr>\n",
       "    <tr>\n",
       "      <th>1</th>\n",
       "      <td>412</td>\n",
       "      <td>(r0,r1,(r2,((r3,(((r6,r5...</td>\n",
       "    </tr>\n",
       "    <tr>\n",
       "      <th>2</th>\n",
       "      <td>413</td>\n",
       "      <td>((r3,(((r6,r7):0.039,r5)...</td>\n",
       "    </tr>\n",
       "    <tr>\n",
       "      <th>3</th>\n",
       "      <td>421</td>\n",
       "      <td>(r0,r1,(((r3,r4):0.006,(...</td>\n",
       "    </tr>\n",
       "    <tr>\n",
       "      <th>4</th>\n",
       "      <td>422</td>\n",
       "      <td>(r1,(r2,(((r6,((r5,#H9::...</td>\n",
       "    </tr>\n",
       "    <tr>\n",
       "      <th>5</th>\n",
       "      <td>423</td>\n",
       "      <td>(r0,r1,((((r5,(r6,r7):0....</td>\n",
       "    </tr>\n",
       "    <tr>\n",
       "      <th>6</th>\n",
       "      <td>431</td>\n",
       "      <td>(r0,(r2,((r6,(r3,(r7,(r5...</td>\n",
       "    </tr>\n",
       "    <tr>\n",
       "      <th>7</th>\n",
       "      <td>432</td>\n",
       "      <td>(r0,r1,(r2,((r4,(r7)#H9:...</td>\n",
       "    </tr>\n",
       "    <tr>\n",
       "      <th>8</th>\n",
       "      <td>433</td>\n",
       "      <td>(r0,r1,(r2,(r3,((r4,#H9:...</td>\n",
       "    </tr>\n",
       "  </tbody>\n",
       "</table>\n",
       "</div>"
      ],
      "text/plain": [
       "  sim_type                     snaq_net\n",
       "0      411  (((r7,#H9:8.738::0.129):...\n",
       "1      412  (r0,r1,(r2,((r3,(((r6,r5...\n",
       "2      413  ((r3,(((r6,r7):0.039,r5)...\n",
       "3      421  (r0,r1,(((r3,r4):0.006,(...\n",
       "4      422  (r1,(r2,(((r6,((r5,#H9::...\n",
       "5      423  (r0,r1,((((r5,(r6,r7):0....\n",
       "6      431  (r0,(r2,((r6,(r3,(r7,(r5...\n",
       "7      432  (r0,r1,(r2,((r4,(r7)#H9:...\n",
       "8      433  (r0,r1,(r2,(r3,((r4,#H9:..."
      ]
     },
     "execution_count": 3,
     "metadata": {},
     "output_type": "execute_result"
    }
   ],
   "source": [
    "# create input df\n",
    "idx_list = [\"411\", \"412\", \"413\",\n",
    "           \"421\", \"422\", \"423\",\n",
    "           \"431\", \"432\", \"433\"]\n",
    "NET_df = pd.DataFrame(data = {'sim_type': idx_list, \n",
    "                              'snaq_net': NET_ALL})\n",
    "\n",
    "NET_df"
   ]
  },
  {
   "cell_type": "code",
   "execution_count": 6,
   "id": "another-region",
   "metadata": {},
   "outputs": [
    {
     "name": "stdout",
     "output_type": "stream",
     "text": [
      "411\n",
      "(((r7,#H9:8.738::0.129):0.11,r4):0.019,(r6,((r3,((r0,r1):0.03,r2):0.03):0.0)#H9:0.0::0.871):0.011,r5);\n",
      "0.129\n",
      "412\n",
      "(r0,r1,(r2,((r3,(((r6,r5):0.007,r4):0.0)#H9:0.011::0.974):0.024,(#H9:0.0::0.026,r7):9.71):0.016):0.022);\n",
      "0.026\n",
      "413\n",
      "((r3,(((r6,r7):0.039,r5):0.016,(r4,#H9:0.0::0.017):9.946):0.049):0.053,r2,((r0,r1):0.0)#H9:0.039::0.983);\n",
      "0.017\n",
      "421\n",
      "(r0,r1,(((r3,r4):0.006,((r5,(r6,#H9:::0.129):0.207):0.028,r7):0.012):0.05,(r2)#H9:::0.871):0.011);\n",
      "0.129\n",
      "422\n",
      "(r1,(r2,(((r6,((r5,#H9:::0.274):0.061,r7):0.006):0.011,r3):0.006,r4):0.054):0.076,(r0)#H9:::0.726);\n",
      "0.274\n",
      "423\n",
      "(r0,r1,((((r5,(r6,r7):0.029):0.028,(r4)#H9:::0.953):0.031,r3):0.069,(r2,#H9:::0.047):0.572):0.028);\n",
      "0.047\n",
      "431\n",
      "(r0,(r2,((r6,(r3,(r7,(r5)#H9:::0.967):0.004):0.005):0.008,r4):0.026):0.051,(r1,#H9:::0.033):9.711);\n",
      "0.033\n",
      "432\n",
      "(r0,r1,(r2,((r4,(r7)#H9:::0.885):0.017,((r6,r5):0.01,(r3,#H9:::0.115):0.1):0.008):0.013):0.042);\n",
      "0.115\n",
      "433\n",
      "(r0,r1,(r2,(r3,((r4,#H9:::0.447):0.024,(r6,(r7,(r5)#H9:::0.553):0.025):0.059):0.035):0.02):0.045);\n",
      "0.447\n"
     ]
    }
   ],
   "source": [
    "gammas = []\n",
    "\n",
    "for index, row in NET_df.iterrows():\n",
    "    \n",
    "    # extract from df\n",
    "    idx_individual = row['sim_type']\n",
    "    NET_individual = row['snaq_net']\n",
    "    \n",
    "    # plot network\n",
    "    tree, admix = toytree.network.parse_network_to_tree_and_admix(NET_individual)\n",
    "\n",
    "    start, dest, midpt, dict_plot_temp, gamma = admix[0]\n",
    "    gammas.append(gamma)\n",
    "\n",
    "    tree_root = tree.root(\"r7\")\n",
    "\n",
    "    c, a, m = tree_root.draw(\n",
    "              width=300, \n",
    "              height=250,\n",
    "              tree_style=\"p\",\n",
    "              node_labels=False,\n",
    "              node_sizes=6,\n",
    "              tip_labels_align=True,\n",
    "              use_edge_lengths=False,\n",
    "              admixture_edges=[(start[0], dest[0], midpt, {'stroke': orange})],\n",
    "              scale_bar=False,\n",
    "              fixed_order=['r0', 'r1', 'r2', 'r3', 'r4', 'r5', 'r6', 'r7'],\n",
    "              #layout = \"r\",\n",
    "            );\n",
    "    \n",
    "    #plot gamma value on plot with admixture_edges=[(start[0], dest[0], midpt, {'stroke': orange}, gamma)]\n",
    "    \n",
    "    # show network output\n",
    "    print(idx_individual)\n",
    "    print(NET_individual)\n",
    "    print(gamma)\n",
    "    c\n",
    "\n",
    "    # save figure\n",
    "    file_out_str = \"./nb4_treefigs/snaq_\" + idx_individual + \"_1000nloci.svg\"\n",
    "    toyplot.svg.render(c, fobj=file_out_str)"
   ]
  },
  {
   "cell_type": "code",
   "execution_count": 5,
   "id": "therapeutic-dependence",
   "metadata": {},
   "outputs": [
    {
     "data": {
      "text/html": [
       "<div>\n",
       "<style scoped>\n",
       "    .dataframe tbody tr th:only-of-type {\n",
       "        vertical-align: middle;\n",
       "    }\n",
       "\n",
       "    .dataframe tbody tr th {\n",
       "        vertical-align: top;\n",
       "    }\n",
       "\n",
       "    .dataframe thead th {\n",
       "        text-align: right;\n",
       "    }\n",
       "</style>\n",
       "<table border=\"1\" class=\"dataframe\">\n",
       "  <thead>\n",
       "    <tr style=\"text-align: right;\">\n",
       "      <th></th>\n",
       "      <th>sim_type</th>\n",
       "      <th>snaq_net</th>\n",
       "      <th>gamma</th>\n",
       "    </tr>\n",
       "  </thead>\n",
       "  <tbody>\n",
       "    <tr>\n",
       "      <th>0</th>\n",
       "      <td>411</td>\n",
       "      <td>(((r7,#H9:8.738::0.129):...</td>\n",
       "      <td>0.129</td>\n",
       "    </tr>\n",
       "    <tr>\n",
       "      <th>1</th>\n",
       "      <td>412</td>\n",
       "      <td>(r0,r1,(r2,((r3,(((r6,r5...</td>\n",
       "      <td>0.026</td>\n",
       "    </tr>\n",
       "    <tr>\n",
       "      <th>2</th>\n",
       "      <td>413</td>\n",
       "      <td>((r3,(((r6,r7):0.039,r5)...</td>\n",
       "      <td>0.017</td>\n",
       "    </tr>\n",
       "    <tr>\n",
       "      <th>3</th>\n",
       "      <td>421</td>\n",
       "      <td>(r0,r1,(((r3,r4):0.006,(...</td>\n",
       "      <td>0.129</td>\n",
       "    </tr>\n",
       "    <tr>\n",
       "      <th>4</th>\n",
       "      <td>422</td>\n",
       "      <td>(r1,(r2,(((r6,((r5,#H9::...</td>\n",
       "      <td>0.274</td>\n",
       "    </tr>\n",
       "    <tr>\n",
       "      <th>5</th>\n",
       "      <td>423</td>\n",
       "      <td>(r0,r1,((((r5,(r6,r7):0....</td>\n",
       "      <td>0.047</td>\n",
       "    </tr>\n",
       "    <tr>\n",
       "      <th>6</th>\n",
       "      <td>431</td>\n",
       "      <td>(r0,(r2,((r6,(r3,(r7,(r5...</td>\n",
       "      <td>0.033</td>\n",
       "    </tr>\n",
       "    <tr>\n",
       "      <th>7</th>\n",
       "      <td>432</td>\n",
       "      <td>(r0,r1,(r2,((r4,(r7)#H9:...</td>\n",
       "      <td>0.115</td>\n",
       "    </tr>\n",
       "    <tr>\n",
       "      <th>8</th>\n",
       "      <td>433</td>\n",
       "      <td>(r0,r1,(r2,(r3,((r4,#H9:...</td>\n",
       "      <td>0.447</td>\n",
       "    </tr>\n",
       "  </tbody>\n",
       "</table>\n",
       "</div>"
      ],
      "text/plain": [
       "  sim_type                     snaq_net  gamma\n",
       "0      411  (((r7,#H9:8.738::0.129):...  0.129\n",
       "1      412  (r0,r1,(r2,((r3,(((r6,r5...  0.026\n",
       "2      413  ((r3,(((r6,r7):0.039,r5)...  0.017\n",
       "3      421  (r0,r1,(((r3,r4):0.006,(...  0.129\n",
       "4      422  (r1,(r2,(((r6,((r5,#H9::...  0.274\n",
       "5      423  (r0,r1,((((r5,(r6,r7):0....  0.047\n",
       "6      431  (r0,(r2,((r6,(r3,(r7,(r5...  0.033\n",
       "7      432  (r0,r1,(r2,((r4,(r7)#H9:...  0.115\n",
       "8      433  (r0,r1,(r2,(r3,((r4,#H9:...  0.447"
      ]
     },
     "execution_count": 5,
     "metadata": {},
     "output_type": "execute_result"
    }
   ],
   "source": [
    "# add gamma values to df\n",
    "NET_df[\"gamma\"] = gammas\n",
    "NET_df"
   ]
  },
  {
   "cell_type": "markdown",
   "id": "bearing-gnome",
   "metadata": {},
   "source": [
    "## 4.1 Unlinked\n",
    "\n",
    "### 4.1.1 SNaQ Unlinked Vary Ne only"
   ]
  },
  {
   "cell_type": "markdown",
   "id": "southeast-river",
   "metadata": {},
   "source": [
    "### 4.1.2 SNaQ Unlinked Vary gen only "
   ]
  },
  {
   "cell_type": "markdown",
   "id": "lasting-landing",
   "metadata": {},
   "source": [
    "### 4.1.3 SNaQ Unlinked Vary Ne & gen"
   ]
  },
  {
   "cell_type": "markdown",
   "id": "usual-intermediate",
   "metadata": {},
   "source": [
    "## 4.2 Linked 1000bp\n",
    "### 4.2.1 SNaQ Linked 1000bp Vary Ne only"
   ]
  },
  {
   "cell_type": "markdown",
   "id": "dangerous-daughter",
   "metadata": {},
   "source": [
    "### 4.2.2 SNaQ Linked 1000bp Vary gen only"
   ]
  },
  {
   "cell_type": "markdown",
   "id": "streaming-escape",
   "metadata": {},
   "source": [
    "### 4.2.3 SNaQ Linked 1000bp Vary Ne & gen"
   ]
  },
  {
   "cell_type": "markdown",
   "id": "prospective-onion",
   "metadata": {},
   "source": [
    "## 4.3 Linked 10000bp\n",
    "### 4.3.1 SNaQ Linked 10000bp Vary Ne only"
   ]
  },
  {
   "cell_type": "markdown",
   "id": "necessary-resistance",
   "metadata": {},
   "source": [
    "### 4.3.2 SNaQ Linked 10000bp Vary gen only"
   ]
  },
  {
   "cell_type": "markdown",
   "id": "domestic-apparatus",
   "metadata": {},
   "source": [
    "### 4.3.3 SNaQ Linked 10000bp Vary Ne & gen"
   ]
  }
 ],
 "metadata": {
  "kernelspec": {
   "display_name": "Python 3",
   "language": "python",
   "name": "python3"
  },
  "language_info": {
   "codemirror_mode": {
    "name": "ipython",
    "version": 3
   },
   "file_extension": ".py",
   "mimetype": "text/x-python",
   "name": "python",
   "nbconvert_exporter": "python",
   "pygments_lexer": "ipython3",
   "version": "3.8.5"
  }
 },
 "nbformat": 4,
 "nbformat_minor": 5
}
